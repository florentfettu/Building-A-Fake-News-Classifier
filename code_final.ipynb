{
 "cells": [
  {
   "cell_type": "markdown",
   "metadata": {
    "colab_type": "text",
    "id": "NHzs72OxDRP5"
   },
   "source": [
    "# Building a fake news classifier using text mining"
   ]
  },
  {
   "cell_type": "markdown",
   "metadata": {
    "colab_type": "text",
    "id": "hrpNemNiC0gj"
   },
   "source": [
    "## Import Libraries"
   ]
  },
  {
   "cell_type": "code",
   "execution_count": 196,
   "metadata": {
    "ExecuteTime": {
     "end_time": "2020-04-28T01:47:30.743826Z",
     "start_time": "2020-04-28T01:47:30.722175Z"
    },
    "colab": {
     "base_uri": "https://localhost:8080/",
     "height": 51
    },
    "colab_type": "code",
    "id": "00Zxsw_PDkJ3",
    "outputId": "7309f3df-208b-4b98-d6ee-d5c77f09e11c"
   },
   "outputs": [],
   "source": [
    "import pandas as pd\n",
    "import numpy as np\n",
    "import seaborn as sns\n",
    "import matplotlib.pyplot as plt\n",
    "import spacy\n",
    "import nltk\n",
    "import re\n",
    "from sklearn.model_selection import train_test_split\n",
    "from sklearn.linear_model import LogisticRegression\n",
    "from sklearn.metrics import accuracy_score, confusion_matrix, classification_report\n",
    "from sklearn.naive_bayes import MultinomialNB\n",
    "from sklearn.svm import SVC, LinearSVC\n",
    "from sklearn.feature_extraction.text import CountVectorizer, TfidfTransformer, TfidfVectorizer\n",
    "from sklearn.pipeline import Pipeline\n",
    "import scipy\n",
    "from sklearn.decomposition import LatentDirichletAllocation\n",
    "import random\n",
    "from string import punctuation\n",
    "from wordcloud import STOPWORDS\n",
    "from statistics import mean"
   ]
  },
  {
   "cell_type": "markdown",
   "metadata": {
    "colab_type": "text",
    "id": "NSE4nL6SDkML"
   },
   "source": [
    "## Import Data"
   ]
  },
  {
   "cell_type": "code",
   "execution_count": 197,
   "metadata": {
    "ExecuteTime": {
     "end_time": "2020-04-28T01:47:33.122308Z",
     "start_time": "2020-04-28T01:47:32.722621Z"
    },
    "colab": {},
    "colab_type": "code",
    "id": "IW226_P9DkRb"
   },
   "outputs": [],
   "source": [
    "df = pd.read_csv('Datasets/fake_or_real_news.csv')"
   ]
  },
  {
   "cell_type": "code",
   "execution_count": 198,
   "metadata": {
    "ExecuteTime": {
     "end_time": "2020-04-28T01:47:33.414210Z",
     "start_time": "2020-04-28T01:47:33.397133Z"
    }
   },
   "outputs": [
    {
     "data": {
      "text/html": [
       "<div>\n",
       "<style scoped>\n",
       "    .dataframe tbody tr th:only-of-type {\n",
       "        vertical-align: middle;\n",
       "    }\n",
       "\n",
       "    .dataframe tbody tr th {\n",
       "        vertical-align: top;\n",
       "    }\n",
       "\n",
       "    .dataframe thead th {\n",
       "        text-align: right;\n",
       "    }\n",
       "</style>\n",
       "<table border=\"1\" class=\"dataframe\">\n",
       "  <thead>\n",
       "    <tr style=\"text-align: right;\">\n",
       "      <th></th>\n",
       "      <th>Unnamed: 0</th>\n",
       "      <th>title</th>\n",
       "      <th>text</th>\n",
       "      <th>label</th>\n",
       "    </tr>\n",
       "  </thead>\n",
       "  <tbody>\n",
       "    <tr>\n",
       "      <td>0</td>\n",
       "      <td>8476</td>\n",
       "      <td>You Can Smell Hillary’s Fear</td>\n",
       "      <td>Daniel Greenfield, a Shillman Journalism Fello...</td>\n",
       "      <td>FAKE</td>\n",
       "    </tr>\n",
       "    <tr>\n",
       "      <td>1</td>\n",
       "      <td>10294</td>\n",
       "      <td>Watch The Exact Moment Paul Ryan Committed Pol...</td>\n",
       "      <td>Google Pinterest Digg Linkedin Reddit Stumbleu...</td>\n",
       "      <td>FAKE</td>\n",
       "    </tr>\n",
       "    <tr>\n",
       "      <td>2</td>\n",
       "      <td>3608</td>\n",
       "      <td>Kerry to go to Paris in gesture of sympathy</td>\n",
       "      <td>U.S. Secretary of State John F. Kerry said Mon...</td>\n",
       "      <td>REAL</td>\n",
       "    </tr>\n",
       "    <tr>\n",
       "      <td>3</td>\n",
       "      <td>10142</td>\n",
       "      <td>Bernie supporters on Twitter erupt in anger ag...</td>\n",
       "      <td>— Kaydee King (@KaydeeKing) November 9, 2016 T...</td>\n",
       "      <td>FAKE</td>\n",
       "    </tr>\n",
       "    <tr>\n",
       "      <td>4</td>\n",
       "      <td>875</td>\n",
       "      <td>The Battle of New York: Why This Primary Matters</td>\n",
       "      <td>It's primary day in New York and front-runners...</td>\n",
       "      <td>REAL</td>\n",
       "    </tr>\n",
       "  </tbody>\n",
       "</table>\n",
       "</div>"
      ],
      "text/plain": [
       "   Unnamed: 0                                              title  \\\n",
       "0        8476                       You Can Smell Hillary’s Fear   \n",
       "1       10294  Watch The Exact Moment Paul Ryan Committed Pol...   \n",
       "2        3608        Kerry to go to Paris in gesture of sympathy   \n",
       "3       10142  Bernie supporters on Twitter erupt in anger ag...   \n",
       "4         875   The Battle of New York: Why This Primary Matters   \n",
       "\n",
       "                                                text label  \n",
       "0  Daniel Greenfield, a Shillman Journalism Fello...  FAKE  \n",
       "1  Google Pinterest Digg Linkedin Reddit Stumbleu...  FAKE  \n",
       "2  U.S. Secretary of State John F. Kerry said Mon...  REAL  \n",
       "3  — Kaydee King (@KaydeeKing) November 9, 2016 T...  FAKE  \n",
       "4  It's primary day in New York and front-runners...  REAL  "
      ]
     },
     "execution_count": 198,
     "metadata": {},
     "output_type": "execute_result"
    }
   ],
   "source": [
    "df.head()"
   ]
  },
  {
   "cell_type": "code",
   "execution_count": 199,
   "metadata": {
    "ExecuteTime": {
     "end_time": "2020-04-28T01:47:47.606873Z",
     "start_time": "2020-04-28T01:47:47.594089Z"
    },
    "colab": {},
    "colab_type": "code",
    "id": "3Cew9VlnEx0c"
   },
   "outputs": [],
   "source": [
    "# We create a test data that we will just use for the final predictions\n",
    "df_train = df.sample(frac=0.9, random_state=42)\n",
    "df_test = df.drop(df_train.index)"
   ]
  },
  {
   "cell_type": "code",
   "execution_count": 200,
   "metadata": {
    "ExecuteTime": {
     "end_time": "2020-04-28T01:47:48.298553Z",
     "start_time": "2020-04-28T01:47:48.291519Z"
    },
    "colab": {
     "base_uri": "https://localhost:8080/",
     "height": 51
    },
    "colab_type": "code",
    "id": "kZZXHtHLFSHw",
    "outputId": "ed93cb76-abd3-4a4c-86fe-184155c0b5a9"
   },
   "outputs": [
    {
     "name": "stdout",
     "output_type": "stream",
     "text": [
      "Train Data Shape: (5702, 4)\n",
      "Test Data Shape: (633, 4)\n"
     ]
    }
   ],
   "source": [
    "print(f'Train Data Shape: {df_train.shape}')\n",
    "print(f'Test Data Shape: {df_test.shape}')"
   ]
  },
  {
   "cell_type": "code",
   "execution_count": 201,
   "metadata": {
    "ExecuteTime": {
     "end_time": "2020-04-28T01:47:48.970837Z",
     "start_time": "2020-04-28T01:47:48.957726Z"
    },
    "colab": {
     "base_uri": "https://localhost:8080/",
     "height": 204
    },
    "colab_type": "code",
    "id": "Yp53_e4-FS-X",
    "outputId": "e55ac469-eeff-48e7-94c2-446075078db3"
   },
   "outputs": [
    {
     "data": {
      "text/html": [
       "<div>\n",
       "<style scoped>\n",
       "    .dataframe tbody tr th:only-of-type {\n",
       "        vertical-align: middle;\n",
       "    }\n",
       "\n",
       "    .dataframe tbody tr th {\n",
       "        vertical-align: top;\n",
       "    }\n",
       "\n",
       "    .dataframe thead th {\n",
       "        text-align: right;\n",
       "    }\n",
       "</style>\n",
       "<table border=\"1\" class=\"dataframe\">\n",
       "  <thead>\n",
       "    <tr style=\"text-align: right;\">\n",
       "      <th></th>\n",
       "      <th>Unnamed: 0</th>\n",
       "      <th>title</th>\n",
       "      <th>text</th>\n",
       "      <th>label</th>\n",
       "    </tr>\n",
       "  </thead>\n",
       "  <tbody>\n",
       "    <tr>\n",
       "      <td>1357</td>\n",
       "      <td>9957</td>\n",
       "      <td>American Dream, Revisited</td>\n",
       "      <td>Will Trump pull a Brexit times ten? What would...</td>\n",
       "      <td>FAKE</td>\n",
       "    </tr>\n",
       "    <tr>\n",
       "      <td>2080</td>\n",
       "      <td>7596</td>\n",
       "      <td>Clintons Are Under Multiple FBI Investigations...</td>\n",
       "      <td>Clintons Are Under Multiple FBI Investigations...</td>\n",
       "      <td>FAKE</td>\n",
       "    </tr>\n",
       "    <tr>\n",
       "      <td>2718</td>\n",
       "      <td>8905</td>\n",
       "      <td>The FBI Can’t Actually Investigate a Candidate...</td>\n",
       "      <td>Dispatches from Eric Zuesse This piece is cros...</td>\n",
       "      <td>FAKE</td>\n",
       "    </tr>\n",
       "    <tr>\n",
       "      <td>812</td>\n",
       "      <td>8752</td>\n",
       "      <td>Confirmed: Public overwhelmingly (10-to-1) say...</td>\n",
       "      <td>Print \\n[Ed. – Every now and then the facade c...</td>\n",
       "      <td>FAKE</td>\n",
       "    </tr>\n",
       "    <tr>\n",
       "      <td>4886</td>\n",
       "      <td>7804</td>\n",
       "      <td>Nanny In Jail After Force Feeding Baby To Death</td>\n",
       "      <td>Nanny In Jail After Force Feeding Baby To Deat...</td>\n",
       "      <td>FAKE</td>\n",
       "    </tr>\n",
       "  </tbody>\n",
       "</table>\n",
       "</div>"
      ],
      "text/plain": [
       "      Unnamed: 0                                              title  \\\n",
       "1357        9957                          American Dream, Revisited   \n",
       "2080        7596  Clintons Are Under Multiple FBI Investigations...   \n",
       "2718        8905  The FBI Can’t Actually Investigate a Candidate...   \n",
       "812         8752  Confirmed: Public overwhelmingly (10-to-1) say...   \n",
       "4886        7804    Nanny In Jail After Force Feeding Baby To Death   \n",
       "\n",
       "                                                   text label  \n",
       "1357  Will Trump pull a Brexit times ten? What would...  FAKE  \n",
       "2080  Clintons Are Under Multiple FBI Investigations...  FAKE  \n",
       "2718  Dispatches from Eric Zuesse This piece is cros...  FAKE  \n",
       "812   Print \\n[Ed. – Every now and then the facade c...  FAKE  \n",
       "4886  Nanny In Jail After Force Feeding Baby To Deat...  FAKE  "
      ]
     },
     "metadata": {},
     "output_type": "display_data"
    }
   ],
   "source": [
    "display(df_train.head())"
   ]
  },
  {
   "cell_type": "code",
   "execution_count": 202,
   "metadata": {
    "ExecuteTime": {
     "end_time": "2020-04-28T01:47:51.633915Z",
     "start_time": "2020-04-28T01:47:51.628679Z"
    },
    "colab": {
     "base_uri": "https://localhost:8080/",
     "height": 34
    },
    "colab_type": "code",
    "id": "ZUfN6fgNFYvp",
    "outputId": "1fa453d3-cb26-4ac2-8e0c-44f6cb86d7a3"
   },
   "outputs": [
    {
     "data": {
      "text/plain": [
       "(5702, 4)"
      ]
     },
     "metadata": {},
     "output_type": "display_data"
    }
   ],
   "source": [
    "display(df_train.shape)"
   ]
  },
  {
   "cell_type": "code",
   "execution_count": 203,
   "metadata": {
    "ExecuteTime": {
     "end_time": "2020-04-28T01:47:52.034517Z",
     "start_time": "2020-04-28T01:47:51.926467Z"
    },
    "colab": {
     "base_uri": "https://localhost:8080/",
     "height": 34
    },
    "colab_type": "code",
    "id": "khyrho2qFbDM",
    "outputId": "332a5d02-6d0c-48ed-a23c-7c65253d0b10"
   },
   "outputs": [
    {
     "data": {
      "text/plain": [
       "0"
      ]
     },
     "execution_count": 203,
     "metadata": {},
     "output_type": "execute_result"
    }
   ],
   "source": [
    "# Check for duplicates\n",
    "len(df_train[df_train.duplicated()])"
   ]
  },
  {
   "cell_type": "code",
   "execution_count": 204,
   "metadata": {
    "ExecuteTime": {
     "end_time": "2020-04-28T01:47:53.817752Z",
     "start_time": "2020-04-28T01:47:53.613041Z"
    },
    "colab": {
     "base_uri": "https://localhost:8080/",
     "height": 279
    },
    "colab_type": "code",
    "id": "GWDUwT1xFc56",
    "outputId": "1f070079-408b-4ca1-82aa-28187980b81c"
   },
   "outputs": [
    {
     "data": {
      "image/png": "[encoded data removed]",
      "text/plain": [
       "<Figure size 432x288 with 1 Axes>"
      ]
     },
     "metadata": {
      "needs_background": "light"
     },
     "output_type": "display_data"
    }
   ],
   "source": [
    "# Plot the distribution of the target variable\n",
    "sns.countplot(x='label', data=df_train, palette='bright')\n",
    "plt.tight_layout()\n",
    "plt.show()\n",
    "#plt.savefig('target_variable.svg')"
   ]
  },
  {
   "cell_type": "code",
   "execution_count": 205,
   "metadata": {
    "ExecuteTime": {
     "end_time": "2020-04-28T01:47:54.757135Z",
     "start_time": "2020-04-28T01:47:54.748198Z"
    },
    "colab": {
     "base_uri": "https://localhost:8080/",
     "height": 68
    },
    "colab_type": "code",
    "id": "3h6AC6z-FiTr",
    "outputId": "e6093cc9-3faa-4c1a-d9be-a96f4fdf5877"
   },
   "outputs": [
    {
     "data": {
      "text/plain": [
       "FAKE    2855\n",
       "REAL    2847\n",
       "Name: label, dtype: int64"
      ]
     },
     "execution_count": 205,
     "metadata": {},
     "output_type": "execute_result"
    }
   ],
   "source": [
    "# There is almost the same number of real and fake news\n",
    "df_train.label.value_counts()"
   ]
  },
  {
   "cell_type": "markdown",
   "metadata": {
    "colab_type": "text",
    "id": "pjqEAj9oFiV_"
   },
   "source": [
    "# Feature engineering with meta-features"
   ]
  },
  {
   "cell_type": "markdown",
   "metadata": {
    "colab_type": "text",
    "id": "BCUKTN4HcarO"
   },
   "source": [
    "## Adding the number of characters"
   ]
  },
  {
   "cell_type": "code",
   "execution_count": 206,
   "metadata": {
    "ExecuteTime": {
     "end_time": "2020-04-28T01:47:56.507501Z",
     "start_time": "2020-04-28T01:47:56.498025Z"
    },
    "colab": {},
    "colab_type": "code",
    "id": "EpymMtT7bxqM"
   },
   "outputs": [],
   "source": [
    "# We add a new column containing the length of each text (number of character)\n",
    "df_train['char_count'] = df_train.text.apply(lambda x: len(x))"
   ]
  },
  {
   "cell_type": "code",
   "execution_count": 207,
   "metadata": {
    "ExecuteTime": {
     "end_time": "2020-04-28T01:47:57.534006Z",
     "start_time": "2020-04-28T01:47:57.523989Z"
    },
    "colab": {
     "base_uri": "https://localhost:8080/",
     "height": 170
    },
    "colab_type": "code",
    "id": "dlkH9nsrbxsM",
    "outputId": "dda545d6-880f-4e77-8f85-ae0847cf3a97"
   },
   "outputs": [
    {
     "data": {
      "text/plain": [
       "count      5702.000000\n",
       "mean       4705.494739\n",
       "std        4990.421606\n",
       "min           1.000000\n",
       "25%        1738.250000\n",
       "50%        3624.500000\n",
       "75%        6204.000000\n",
       "max      115372.000000\n",
       "Name: char_count, dtype: float64"
      ]
     },
     "execution_count": 207,
     "metadata": {},
     "output_type": "execute_result"
    }
   ],
   "source": [
    "df_train['char_count'].describe()"
   ]
  },
  {
   "cell_type": "code",
   "execution_count": 208,
   "metadata": {
    "ExecuteTime": {
     "end_time": "2020-04-28T01:47:57.938817Z",
     "start_time": "2020-04-28T01:47:57.930929Z"
    },
    "colab": {
     "base_uri": "https://localhost:8080/",
     "height": 34
    },
    "colab_type": "code",
    "id": "co7egp97bxvg",
    "outputId": "45626a36-b7cf-40a1-91ec-8f89e9b0889a"
   },
   "outputs": [
    {
     "data": {
      "text/plain": [
       "28"
      ]
     },
     "execution_count": 208,
     "metadata": {},
     "output_type": "execute_result"
    }
   ],
   "source": [
    "# There are 28 empty texts\n",
    "len(df_train[df_train['char_count'] == 1])"
   ]
  },
  {
   "cell_type": "code",
   "execution_count": 209,
   "metadata": {
    "ExecuteTime": {
     "end_time": "2020-04-28T01:47:59.022389Z",
     "start_time": "2020-04-28T01:47:59.012474Z"
    },
    "colab": {
     "base_uri": "https://localhost:8080/",
     "height": 34
    },
    "colab_type": "code",
    "id": "tYMBz0R1bxxW",
    "outputId": "d4833c25-4536-4dba-a65c-7870b6447406"
   },
   "outputs": [
    {
     "data": {
      "text/plain": [
       "array(['FAKE'], dtype=object)"
      ]
     },
     "execution_count": 209,
     "metadata": {},
     "output_type": "execute_result"
    }
   ],
   "source": [
    "# The 28 empty texts are labeled as 'FAKE'\n",
    "df_train.label[df_train['char_count'] == 1].unique()"
   ]
  },
  {
   "cell_type": "code",
   "execution_count": 210,
   "metadata": {
    "ExecuteTime": {
     "end_time": "2020-04-28T01:48:00.112952Z",
     "start_time": "2020-04-28T01:48:00.097454Z"
    },
    "colab": {
     "base_uri": "https://localhost:8080/",
     "height": 34
    },
    "colab_type": "code",
    "id": "ZKj3WNApbxz2",
    "outputId": "5766ce1f-2a37-46c2-b5ce-e4b630dd03bf"
   },
   "outputs": [
    {
     "name": "stdout",
     "output_type": "stream",
     "text": [
      "There are 28 empty texts: [1941, 4253, 3350, 4713, 2662, 1883, 710, 3641, 106, 2576, 5213, 5017, 2244, 1736, 2788, 5639, 6064, 2426, 1851, 6328, 940, 5772, 806, 3511, 6175, 3642, 919, 2832]\n"
     ]
    }
   ],
   "source": [
    "# What are the indexes of these empty texts ?\n",
    "blanks = []\n",
    "\n",
    "for i, text, label in df_train[['text', 'label']].itertuples():\n",
    "    if type(text) == str:\n",
    "        if text.isspace():\n",
    "            blanks.append(i)\n",
    "\n",
    "print(f'There are {len(blanks)} empty texts: {blanks}')"
   ]
  },
  {
   "cell_type": "code",
   "execution_count": 211,
   "metadata": {
    "ExecuteTime": {
     "end_time": "2020-04-28T01:48:00.604042Z",
     "start_time": "2020-04-28T01:48:00.596842Z"
    },
    "colab": {},
    "colab_type": "code",
    "id": "Ys5Sw6B7bx2D"
   },
   "outputs": [],
   "source": [
    "# We drop these 28 empty texts\n",
    "df_train.drop(blanks, axis=0, inplace=True)"
   ]
  },
  {
   "cell_type": "code",
   "execution_count": 212,
   "metadata": {
    "ExecuteTime": {
     "end_time": "2020-04-28T01:48:00.954127Z",
     "start_time": "2020-04-28T01:48:00.948898Z"
    },
    "colab": {
     "base_uri": "https://localhost:8080/",
     "height": 34
    },
    "colab_type": "code",
    "id": "uHbzDYYddGqX",
    "outputId": "487dc9f5-6b8d-4bb6-fcca-5443d659a52a"
   },
   "outputs": [
    {
     "data": {
      "text/plain": [
       "(5674, 5)"
      ]
     },
     "execution_count": 212,
     "metadata": {},
     "output_type": "execute_result"
    }
   ],
   "source": [
    "df_train.shape"
   ]
  },
  {
   "cell_type": "markdown",
   "metadata": {
    "colab_type": "text",
    "id": "T0Rbu_Z9dGsb"
   },
   "source": [
    "## Adding the number of punctuation"
   ]
  },
  {
   "cell_type": "code",
   "execution_count": 213,
   "metadata": {
    "ExecuteTime": {
     "end_time": "2020-04-28T01:48:03.752638Z",
     "start_time": "2020-04-28T01:48:02.483259Z"
    },
    "colab": {},
    "colab_type": "code",
    "id": "47fOTlNtdGus"
   },
   "outputs": [],
   "source": [
    "# We add a new column with the number of punctuation within each text\n",
    "df_train['punct_count'] = df_train.text.apply(lambda x: len([i for i in x if i in punctuation]))"
   ]
  },
  {
   "cell_type": "code",
   "execution_count": 214,
   "metadata": {
    "ExecuteTime": {
     "end_time": "2020-04-28T01:48:03.767597Z",
     "start_time": "2020-04-28T01:48:03.755186Z"
    },
    "colab": {
     "base_uri": "https://localhost:8080/",
     "height": 170
    },
    "colab_type": "code",
    "id": "IgImRhhAjL6G",
    "outputId": "b91716cf-4d65-45f9-8d3a-edeb02d338e4"
   },
   "outputs": [
    {
     "data": {
      "text/plain": [
       "count    5674.000000\n",
       "mean      116.181177\n",
       "std       127.088373\n",
       "min         0.000000\n",
       "25%        40.000000\n",
       "50%        89.000000\n",
       "75%       150.000000\n",
       "max      2620.000000\n",
       "Name: punct_count, dtype: float64"
      ]
     },
     "execution_count": 214,
     "metadata": {},
     "output_type": "execute_result"
    }
   ],
   "source": [
    "df_train['punct_count'].describe()"
   ]
  },
  {
   "cell_type": "markdown",
   "metadata": {
    "colab_type": "text",
    "id": "JmsCWjlIjL8h"
   },
   "source": [
    "## Adding the number of words"
   ]
  },
  {
   "cell_type": "code",
   "execution_count": 215,
   "metadata": {
    "ExecuteTime": {
     "end_time": "2020-04-28T01:48:05.369881Z",
     "start_time": "2020-04-28T01:48:05.067975Z"
    },
    "colab": {},
    "colab_type": "code",
    "id": "z_A7RGoyjL-3"
   },
   "outputs": [],
   "source": [
    "df_train['word_count'] = df_train.text.apply(lambda x: len(x.split()))"
   ]
  },
  {
   "cell_type": "code",
   "execution_count": 216,
   "metadata": {
    "ExecuteTime": {
     "end_time": "2020-04-28T01:48:05.382080Z",
     "start_time": "2020-04-28T01:48:05.371916Z"
    },
    "colab": {
     "base_uri": "https://localhost:8080/",
     "height": 170
    },
    "colab_type": "code",
    "id": "qnb-wLCTjMBV",
    "outputId": "835589a9-02ee-4bc1-be81-f6fc7229866d"
   },
   "outputs": [
    {
     "data": {
      "text/plain": [
       "count     5674.000000\n",
       "mean       779.501234\n",
       "std        836.026773\n",
       "min          1.000000\n",
       "25%        293.000000\n",
       "50%        598.000000\n",
       "75%       1026.000000\n",
       "max      20891.000000\n",
       "Name: word_count, dtype: float64"
      ]
     },
     "execution_count": 216,
     "metadata": {},
     "output_type": "execute_result"
    }
   ],
   "source": [
    "df_train['word_count'].describe()"
   ]
  },
  {
   "cell_type": "markdown",
   "metadata": {
    "colab_type": "text",
    "id": "lh-oyE5cj4uU"
   },
   "source": [
    "## Adding the number of unique words"
   ]
  },
  {
   "cell_type": "code",
   "execution_count": 217,
   "metadata": {
    "ExecuteTime": {
     "end_time": "2020-04-28T01:48:07.078179Z",
     "start_time": "2020-04-28T01:48:06.484116Z"
    },
    "colab": {},
    "colab_type": "code",
    "id": "E1Z5UmapkduD"
   },
   "outputs": [],
   "source": [
    "df_train['unique_word_count'] = df_train.text.apply(lambda x: len(set(x.split())))"
   ]
  },
  {
   "cell_type": "code",
   "execution_count": 218,
   "metadata": {
    "ExecuteTime": {
     "end_time": "2020-04-28T01:48:07.090868Z",
     "start_time": "2020-04-28T01:48:07.080764Z"
    },
    "colab": {
     "base_uri": "https://localhost:8080/",
     "height": 170
    },
    "colab_type": "code",
    "id": "_qnsYB5Rkdwe",
    "outputId": "5598709d-b3a2-43a6-9d0b-a96808ba4446"
   },
   "outputs": [
    {
     "data": {
      "text/plain": [
       "count    5674.000000\n",
       "mean      403.120902\n",
       "std       327.801581\n",
       "min         1.000000\n",
       "25%       190.000000\n",
       "50%       346.000000\n",
       "75%       537.000000\n",
       "max      5237.000000\n",
       "Name: unique_word_count, dtype: float64"
      ]
     },
     "execution_count": 218,
     "metadata": {},
     "output_type": "execute_result"
    }
   ],
   "source": [
    "df_train['unique_word_count'].describe()"
   ]
  },
  {
   "cell_type": "markdown",
   "metadata": {
    "colab_type": "text",
    "id": "3l-oA8UsnfzG"
   },
   "source": [
    "## Adding the number of stopwords"
   ]
  },
  {
   "cell_type": "code",
   "execution_count": 219,
   "metadata": {
    "ExecuteTime": {
     "end_time": "2020-04-28T01:48:09.031401Z",
     "start_time": "2020-04-28T01:48:08.229074Z"
    },
    "colab": {},
    "colab_type": "code",
    "id": "twd9nJqxngQ8"
   },
   "outputs": [],
   "source": [
    "df_train['stop_word_count'] = df_train.text.apply(lambda x: len([w for w in x.lower().split() if w in STOPWORDS]))"
   ]
  },
  {
   "cell_type": "code",
   "execution_count": 220,
   "metadata": {
    "ExecuteTime": {
     "end_time": "2020-04-28T01:48:09.047418Z",
     "start_time": "2020-04-28T01:48:09.035278Z"
    },
    "colab": {
     "base_uri": "https://localhost:8080/",
     "height": 170
    },
    "colab_type": "code",
    "id": "MeNg_V5-ngPR",
    "outputId": "1a8e7202-8fe7-42df-b45a-45c18940380c"
   },
   "outputs": [
    {
     "data": {
      "text/plain": [
       "count    5674.000000\n",
       "mean      324.719951\n",
       "std       363.820002\n",
       "min         0.000000\n",
       "25%       116.000000\n",
       "50%       245.000000\n",
       "75%       432.000000\n",
       "max      9945.000000\n",
       "Name: stop_word_count, dtype: float64"
      ]
     },
     "execution_count": 220,
     "metadata": {},
     "output_type": "execute_result"
    }
   ],
   "source": [
    "df_train['stop_word_count'].describe()"
   ]
  },
  {
   "cell_type": "markdown",
   "metadata": {
    "colab_type": "text",
    "id": "pSIEZKDcngFa"
   },
   "source": [
    "## Adding the mean word length"
   ]
  },
  {
   "cell_type": "code",
   "execution_count": 221,
   "metadata": {
    "ExecuteTime": {
     "end_time": "2020-04-28T01:48:10.871121Z",
     "start_time": "2020-04-28T01:48:09.786670Z"
    },
    "colab": {},
    "colab_type": "code",
    "id": "H0eWPFTangDu"
   },
   "outputs": [],
   "source": [
    "df_train['mean_word_length'] = df_train['text'].apply(lambda x: np.mean([len(w) for w in str(x).split()]))"
   ]
  },
  {
   "cell_type": "code",
   "execution_count": 222,
   "metadata": {
    "ExecuteTime": {
     "end_time": "2020-04-28T01:48:10.886742Z",
     "start_time": "2020-04-28T01:48:10.873681Z"
    },
    "colab": {
     "base_uri": "https://localhost:8080/",
     "height": 170
    },
    "colab_type": "code",
    "id": "-ERKu-3Knf9H",
    "outputId": "ae49df50-1a99-47cd-df6d-8bd6975508dd"
   },
   "outputs": [
    {
     "data": {
      "text/plain": [
       "count    5674.000000\n",
       "mean        5.085153\n",
       "std         0.737586\n",
       "min         3.714286\n",
       "25%         4.881296\n",
       "50%         5.050950\n",
       "75%         5.225621\n",
       "max        48.496000\n",
       "Name: mean_word_length, dtype: float64"
      ]
     },
     "execution_count": 222,
     "metadata": {},
     "output_type": "execute_result"
    }
   ],
   "source": [
    "df_train['mean_word_length'].describe() # pourquoi 48 ? mots collées avec /"
   ]
  },
  {
   "cell_type": "markdown",
   "metadata": {
    "colab_type": "text",
    "id": "RcCyLDE3qp8s"
   },
   "source": [
    "## Adding the number of url"
   ]
  },
  {
   "cell_type": "code",
   "execution_count": 223,
   "metadata": {
    "ExecuteTime": {
     "end_time": "2020-04-28T01:48:25.292986Z",
     "start_time": "2020-04-28T01:48:24.575726Z"
    },
    "colab": {},
    "colab_type": "code",
    "id": "nZB882KOrad_"
   },
   "outputs": [],
   "source": [
    "df_train['url_count'] = df_train['text'].apply(lambda x: len([w for w in str(x).lower().split() if 'http' in w or 'https' in w]))"
   ]
  },
  {
   "cell_type": "code",
   "execution_count": 224,
   "metadata": {
    "ExecuteTime": {
     "end_time": "2020-04-28T01:48:25.306376Z",
     "start_time": "2020-04-28T01:48:25.295505Z"
    },
    "colab": {
     "base_uri": "https://localhost:8080/",
     "height": 170
    },
    "colab_type": "code",
    "id": "QFUMnLnqraxg",
    "outputId": "1d2d92b7-3834-4592-b5b8-f8d9c783939a"
   },
   "outputs": [
    {
     "data": {
      "text/plain": [
       "count    5674.000000\n",
       "mean        0.109623\n",
       "std         0.918100\n",
       "min         0.000000\n",
       "25%         0.000000\n",
       "50%         0.000000\n",
       "75%         0.000000\n",
       "max        31.000000\n",
       "Name: url_count, dtype: float64"
      ]
     },
     "execution_count": 224,
     "metadata": {},
     "output_type": "execute_result"
    }
   ],
   "source": [
    "df_train['url_count'].describe()"
   ]
  },
  {
   "cell_type": "markdown",
   "metadata": {
    "colab_type": "text",
    "id": "_vFC6peRravr"
   },
   "source": [
    "## Adding the number of hashtag &#35;"
   ]
  },
  {
   "cell_type": "code",
   "execution_count": 225,
   "metadata": {
    "ExecuteTime": {
     "end_time": "2020-04-28T01:48:27.419052Z",
     "start_time": "2020-04-28T01:48:26.297702Z"
    },
    "colab": {},
    "colab_type": "code",
    "id": "w3u1G9E9rat8"
   },
   "outputs": [],
   "source": [
    "df_train['hashtag_count'] = df_train['text'].apply(lambda x: len([c for c in str(x) if c == '#']))"
   ]
  },
  {
   "cell_type": "code",
   "execution_count": 226,
   "metadata": {
    "ExecuteTime": {
     "end_time": "2020-04-28T01:48:27.435225Z",
     "start_time": "2020-04-28T01:48:27.423926Z"
    },
    "colab": {
     "base_uri": "https://localhost:8080/",
     "height": 170
    },
    "colab_type": "code",
    "id": "UJZi_TRtranJ",
    "outputId": "343e2258-59c7-47c1-de5a-bebddeb3c990"
   },
   "outputs": [
    {
     "data": {
      "text/plain": [
       "count    5674.000000\n",
       "mean        0.115086\n",
       "std         0.986052\n",
       "min         0.000000\n",
       "25%         0.000000\n",
       "50%         0.000000\n",
       "75%         0.000000\n",
       "max        42.000000\n",
       "Name: hashtag_count, dtype: float64"
      ]
     },
     "execution_count": 226,
     "metadata": {},
     "output_type": "execute_result"
    }
   ],
   "source": [
    "df_train['hashtag_count'].describe()"
   ]
  },
  {
   "cell_type": "markdown",
   "metadata": {
    "colab_type": "text",
    "id": "k9WUbpgOralc"
   },
   "source": [
    "## Adding the number of mention @"
   ]
  },
  {
   "cell_type": "code",
   "execution_count": 227,
   "metadata": {
    "ExecuteTime": {
     "end_time": "2020-04-28T01:48:29.194393Z",
     "start_time": "2020-04-28T01:48:28.216481Z"
    },
    "colab": {},
    "colab_type": "code",
    "id": "riszMUA6sof3"
   },
   "outputs": [],
   "source": [
    "df_train['mention_count'] = df_train['text'].apply(lambda x: len([c for c in str(x) if c == '@']))"
   ]
  },
  {
   "cell_type": "code",
   "execution_count": 228,
   "metadata": {
    "ExecuteTime": {
     "end_time": "2020-04-28T01:48:29.209160Z",
     "start_time": "2020-04-28T01:48:29.198211Z"
    },
    "colab": {
     "base_uri": "https://localhost:8080/",
     "height": 170
    },
    "colab_type": "code",
    "id": "MFPjho6Asr7-",
    "outputId": "cae103ac-2c4d-40c6-a3f9-e8e2e9b056cb"
   },
   "outputs": [
    {
     "data": {
      "text/plain": [
       "count    5674.000000\n",
       "mean        0.225943\n",
       "std         2.112404\n",
       "min         0.000000\n",
       "25%         0.000000\n",
       "50%         0.000000\n",
       "75%         0.000000\n",
       "max       131.000000\n",
       "Name: mention_count, dtype: float64"
      ]
     },
     "execution_count": 228,
     "metadata": {},
     "output_type": "execute_result"
    }
   ],
   "source": [
    "df_train['mention_count'].describe()"
   ]
  },
  {
   "cell_type": "markdown",
   "metadata": {},
   "source": [
    "## Concatening summary statistics"
   ]
  },
  {
   "cell_type": "code",
   "execution_count": 229,
   "metadata": {
    "ExecuteTime": {
     "end_time": "2020-04-28T01:48:30.935136Z",
     "start_time": "2020-04-28T01:48:30.893182Z"
    }
   },
   "outputs": [
    {
     "data": {
      "text/html": [
       "<div>\n",
       "<style scoped>\n",
       "    .dataframe tbody tr th:only-of-type {\n",
       "        vertical-align: middle;\n",
       "    }\n",
       "\n",
       "    .dataframe tbody tr th {\n",
       "        vertical-align: top;\n",
       "    }\n",
       "\n",
       "    .dataframe thead th {\n",
       "        text-align: right;\n",
       "    }\n",
       "</style>\n",
       "<table border=\"1\" class=\"dataframe\">\n",
       "  <thead>\n",
       "    <tr style=\"text-align: right;\">\n",
       "      <th></th>\n",
       "      <th>char_count</th>\n",
       "      <th>punct_count</th>\n",
       "      <th>word_count</th>\n",
       "      <th>unique_word_count</th>\n",
       "      <th>stop_word_count</th>\n",
       "      <th>mean_word_length</th>\n",
       "      <th>url_count</th>\n",
       "      <th>hashtag_count</th>\n",
       "      <th>mention_count</th>\n",
       "    </tr>\n",
       "  </thead>\n",
       "  <tbody>\n",
       "    <tr>\n",
       "      <td>count</td>\n",
       "      <td>5674.000000</td>\n",
       "      <td>5674.000000</td>\n",
       "      <td>5674.000000</td>\n",
       "      <td>5674.000000</td>\n",
       "      <td>5674.000000</td>\n",
       "      <td>5674.000000</td>\n",
       "      <td>5674.000000</td>\n",
       "      <td>5674.000000</td>\n",
       "      <td>5674.000000</td>\n",
       "    </tr>\n",
       "    <tr>\n",
       "      <td>mean</td>\n",
       "      <td>4728.710434</td>\n",
       "      <td>116.181177</td>\n",
       "      <td>779.501234</td>\n",
       "      <td>403.120902</td>\n",
       "      <td>324.719951</td>\n",
       "      <td>5.085153</td>\n",
       "      <td>0.109623</td>\n",
       "      <td>0.115086</td>\n",
       "      <td>0.225943</td>\n",
       "    </tr>\n",
       "    <tr>\n",
       "      <td>std</td>\n",
       "      <td>4991.738231</td>\n",
       "      <td>127.088373</td>\n",
       "      <td>836.026773</td>\n",
       "      <td>327.801581</td>\n",
       "      <td>363.820002</td>\n",
       "      <td>0.737586</td>\n",
       "      <td>0.918100</td>\n",
       "      <td>0.986052</td>\n",
       "      <td>2.112404</td>\n",
       "    </tr>\n",
       "    <tr>\n",
       "      <td>min</td>\n",
       "      <td>12.000000</td>\n",
       "      <td>0.000000</td>\n",
       "      <td>1.000000</td>\n",
       "      <td>1.000000</td>\n",
       "      <td>0.000000</td>\n",
       "      <td>3.714286</td>\n",
       "      <td>0.000000</td>\n",
       "      <td>0.000000</td>\n",
       "      <td>0.000000</td>\n",
       "    </tr>\n",
       "    <tr>\n",
       "      <td>25%</td>\n",
       "      <td>1765.000000</td>\n",
       "      <td>40.000000</td>\n",
       "      <td>293.000000</td>\n",
       "      <td>190.000000</td>\n",
       "      <td>116.000000</td>\n",
       "      <td>4.881296</td>\n",
       "      <td>0.000000</td>\n",
       "      <td>0.000000</td>\n",
       "      <td>0.000000</td>\n",
       "    </tr>\n",
       "    <tr>\n",
       "      <td>50%</td>\n",
       "      <td>3644.500000</td>\n",
       "      <td>89.000000</td>\n",
       "      <td>598.000000</td>\n",
       "      <td>346.000000</td>\n",
       "      <td>245.000000</td>\n",
       "      <td>5.050950</td>\n",
       "      <td>0.000000</td>\n",
       "      <td>0.000000</td>\n",
       "      <td>0.000000</td>\n",
       "    </tr>\n",
       "    <tr>\n",
       "      <td>75%</td>\n",
       "      <td>6223.750000</td>\n",
       "      <td>150.000000</td>\n",
       "      <td>1026.000000</td>\n",
       "      <td>537.000000</td>\n",
       "      <td>432.000000</td>\n",
       "      <td>5.225621</td>\n",
       "      <td>0.000000</td>\n",
       "      <td>0.000000</td>\n",
       "      <td>0.000000</td>\n",
       "    </tr>\n",
       "    <tr>\n",
       "      <td>max</td>\n",
       "      <td>115372.000000</td>\n",
       "      <td>2620.000000</td>\n",
       "      <td>20891.000000</td>\n",
       "      <td>5237.000000</td>\n",
       "      <td>9945.000000</td>\n",
       "      <td>48.496000</td>\n",
       "      <td>31.000000</td>\n",
       "      <td>42.000000</td>\n",
       "      <td>131.000000</td>\n",
       "    </tr>\n",
       "  </tbody>\n",
       "</table>\n",
       "</div>"
      ],
      "text/plain": [
       "          char_count  punct_count    word_count  unique_word_count  \\\n",
       "count    5674.000000  5674.000000   5674.000000        5674.000000   \n",
       "mean     4728.710434   116.181177    779.501234         403.120902   \n",
       "std      4991.738231   127.088373    836.026773         327.801581   \n",
       "min        12.000000     0.000000      1.000000           1.000000   \n",
       "25%      1765.000000    40.000000    293.000000         190.000000   \n",
       "50%      3644.500000    89.000000    598.000000         346.000000   \n",
       "75%      6223.750000   150.000000   1026.000000         537.000000   \n",
       "max    115372.000000  2620.000000  20891.000000        5237.000000   \n",
       "\n",
       "       stop_word_count  mean_word_length    url_count  hashtag_count  \\\n",
       "count      5674.000000       5674.000000  5674.000000    5674.000000   \n",
       "mean        324.719951          5.085153     0.109623       0.115086   \n",
       "std         363.820002          0.737586     0.918100       0.986052   \n",
       "min           0.000000          3.714286     0.000000       0.000000   \n",
       "25%         116.000000          4.881296     0.000000       0.000000   \n",
       "50%         245.000000          5.050950     0.000000       0.000000   \n",
       "75%         432.000000          5.225621     0.000000       0.000000   \n",
       "max        9945.000000         48.496000    31.000000      42.000000   \n",
       "\n",
       "       mention_count  \n",
       "count    5674.000000  \n",
       "mean        0.225943  \n",
       "std         2.112404  \n",
       "min         0.000000  \n",
       "25%         0.000000  \n",
       "50%         0.000000  \n",
       "75%         0.000000  \n",
       "max       131.000000  "
      ]
     },
     "execution_count": 229,
     "metadata": {},
     "output_type": "execute_result"
    }
   ],
   "source": [
    "df_train.drop('Unnamed: 0', axis=1)._get_numeric_data().describe()"
   ]
  },
  {
   "cell_type": "markdown",
   "metadata": {
    "colab_type": "text",
    "id": "9eCJgPCFkdyt"
   },
   "source": [
    "# Exploratory Data Analysis"
   ]
  },
  {
   "cell_type": "markdown",
   "metadata": {},
   "source": [
    "## Numerical Features"
   ]
  },
  {
   "cell_type": "markdown",
   "metadata": {
    "colab_type": "text",
    "id": "KXSycWsu2RgN"
   },
   "source": [
    "### char_count"
   ]
  },
  {
   "cell_type": "code",
   "execution_count": 230,
   "metadata": {
    "ExecuteTime": {
     "end_time": "2020-04-28T01:48:50.949730Z",
     "start_time": "2020-04-28T01:48:50.285580Z"
    },
    "colab": {
     "base_uri": "https://localhost:8080/",
     "height": 269
    },
    "colab_type": "code",
    "id": "_c9wxKEUxLpx",
    "outputId": "853e8b04-beda-417b-ef1e-b7c7a5f9def5"
   },
   "outputs": [
    {
     "data": {
      "image/png": "[encoded data removed]",
      "text/plain": [
       "<Figure size 432x288 with 1 Axes>"
      ]
     },
     "metadata": {
      "needs_background": "light"
     },
     "output_type": "display_data"
    }
   ],
   "source": [
    "plt.xscale('log')\n",
    "bins = 1.15**(np.arange(0,50))\n",
    "plt.hist(df_train[df_train['label']=='REAL']['char_count'],bins=bins,alpha=0.8)\n",
    "plt.hist(df_train[df_train['label']=='FAKE']['char_count'],bins=bins,alpha=0.8)\n",
    "plt.legend(('REAL','FAKE'))\n",
    "plt.tight_layout()\n",
    "plt.show()\n",
    "#plt.savefig('char_count.svg')"
   ]
  },
  {
   "cell_type": "markdown",
   "metadata": {
    "colab_type": "text",
    "id": "QHYjaD_u2YbY"
   },
   "source": [
    "### punct_count"
   ]
  },
  {
   "cell_type": "code",
   "execution_count": 231,
   "metadata": {
    "ExecuteTime": {
     "end_time": "2020-04-28T01:48:53.406335Z",
     "start_time": "2020-04-28T01:48:52.986655Z"
    },
    "colab": {
     "base_uri": "https://localhost:8080/",
     "height": 269
    },
    "colab_type": "code",
    "id": "z_zY1eWSlRZj",
    "outputId": "ba043b22-9b9e-4e37-9c8d-8b771ecdde8c"
   },
   "outputs": [
    {
     "data": {
      "image/png": "[encoded data removed]",
      "text/plain": [
       "<Figure size 432x288 with 1 Axes>"
      ]
     },
     "metadata": {
      "needs_background": "light"
     },
     "output_type": "display_data"
    }
   ],
   "source": [
    "plt.xscale('log')\n",
    "bins = 1.5**(np.arange(0,15))\n",
    "plt.hist(df_train[df_train['label']=='REAL']['punct_count'],bins=bins,alpha=0.8)\n",
    "plt.hist(df_train[df_train['label']=='FAKE']['punct_count'],bins=bins,alpha=0.8)\n",
    "plt.legend(('REAL','FAKE'))\n",
    "plt.tight_layout()\n",
    "plt.show()\n",
    "#plt.savefig('punct_count.svg')"
   ]
  },
  {
   "cell_type": "markdown",
   "metadata": {
    "colab_type": "text",
    "id": "msmjSrTDlSLk"
   },
   "source": [
    "### word_count"
   ]
  },
  {
   "cell_type": "code",
   "execution_count": 232,
   "metadata": {
    "ExecuteTime": {
     "end_time": "2020-04-28T01:48:56.039742Z",
     "start_time": "2020-04-28T01:48:55.504369Z"
    },
    "colab": {
     "base_uri": "https://localhost:8080/",
     "height": 269
    },
    "colab_type": "code",
    "id": "cRLzq5b92dKf",
    "outputId": "c21b943b-516c-4dc7-8549-3132e9ace546"
   },
   "outputs": [
    {
     "data": {
      "image/png": "[encoded data removed]",
      "text/plain": [
       "<Figure size 432x288 with 1 Axes>"
      ]
     },
     "metadata": {
      "needs_background": "light"
     },
     "output_type": "display_data"
    }
   ],
   "source": [
    "plt.xscale('log')\n",
    "bins = 1.5**(np.arange(0,15))\n",
    "plt.hist(df_train[df_train['label']=='REAL']['word_count'],bins=bins,alpha=0.8)\n",
    "plt.hist(df_train[df_train['label']=='FAKE']['word_count'],bins=bins,alpha=0.8)\n",
    "plt.legend(('REAL','FAKE'))\n",
    "plt.tight_layout()\n",
    "plt.show()\n",
    "#plt.savefig('word_count.svg')"
   ]
  },
  {
   "cell_type": "markdown",
   "metadata": {
    "colab_type": "text",
    "id": "syqwNb-92dhi"
   },
   "source": [
    "### unique_word_count"
   ]
  },
  {
   "cell_type": "code",
   "execution_count": 233,
   "metadata": {
    "ExecuteTime": {
     "end_time": "2020-04-28T01:48:57.620801Z",
     "start_time": "2020-04-28T01:48:57.093365Z"
    },
    "colab": {
     "base_uri": "https://localhost:8080/",
     "height": 270
    },
    "colab_type": "code",
    "id": "ohDCQ7XU2dUx",
    "outputId": "2b5e9947-2677-4974-e1e0-45823a74e121"
   },
   "outputs": [
    {
     "data": {
      "image/png": "[encoded data removed]",
      "text/plain": [
       "<Figure size 432x288 with 1 Axes>"
      ]
     },
     "metadata": {
      "needs_background": "light"
     },
     "output_type": "display_data"
    }
   ],
   "source": [
    "plt.xscale('log')\n",
    "bins = 1.5**(np.arange(0,15))\n",
    "plt.hist(df_train[df_train['label']=='REAL']['unique_word_count'],bins=bins,alpha=0.8)\n",
    "plt.hist(df_train[df_train['label']=='FAKE']['unique_word_count'],bins=bins,alpha=0.8)\n",
    "plt.legend(('REAL','FAKE'))\n",
    "plt.tight_layout()\n",
    "plt.show()\n",
    "#plt.savefig('unique_word_count.svg')"
   ]
  },
  {
   "cell_type": "markdown",
   "metadata": {
    "colab_type": "text",
    "id": "XjvqQak_2dTm"
   },
   "source": [
    "### stop_word_count"
   ]
  },
  {
   "cell_type": "code",
   "execution_count": 234,
   "metadata": {
    "ExecuteTime": {
     "end_time": "2020-04-28T01:48:58.936810Z",
     "start_time": "2020-04-28T01:48:58.419399Z"
    },
    "colab": {
     "base_uri": "https://localhost:8080/",
     "height": 269
    },
    "colab_type": "code",
    "id": "IqaDXGD32yuS",
    "outputId": "b691a44e-863d-40b7-b306-bbb8bb10d1d9"
   },
   "outputs": [
    {
     "data": {
      "image/png": "[encoded data removed]",
      "text/plain": [
       "<Figure size 432x288 with 1 Axes>"
      ]
     },
     "metadata": {
      "needs_background": "light"
     },
     "output_type": "display_data"
    }
   ],
   "source": [
    "plt.xscale('log')\n",
    "bins = 1.5**(np.arange(0,15))\n",
    "plt.hist(df_train[df_train['label']=='REAL']['stop_word_count'],bins=bins,alpha=0.8)\n",
    "plt.hist(df_train[df_train['label']=='FAKE']['stop_word_count'],bins=bins,alpha=0.8)\n",
    "plt.legend(('REAL','FAKE'))\n",
    "plt.tight_layout()\n",
    "plt.show()\n",
    "#plt.savefig('stop_word_count.svg')"
   ]
  },
  {
   "cell_type": "markdown",
   "metadata": {
    "colab_type": "text",
    "id": "9_IAkXgJ2y36"
   },
   "source": [
    "### mean_word_length"
   ]
  },
  {
   "cell_type": "code",
   "execution_count": 235,
   "metadata": {
    "ExecuteTime": {
     "end_time": "2020-04-28T01:49:07.565116Z",
     "start_time": "2020-04-28T01:49:07.146221Z"
    },
    "colab": {
     "base_uri": "https://localhost:8080/",
     "height": 269
    },
    "colab_type": "code",
    "id": "2mWPYDhN2dSY",
    "outputId": "c32515d1-aa62-4915-a52c-c95d0da2f79e"
   },
   "outputs": [
    {
     "data": {
      "image/png": "[encoded data removed]",
      "text/plain": [
       "<Figure size 432x288 with 1 Axes>"
      ]
     },
     "metadata": {
      "needs_background": "light"
     },
     "output_type": "display_data"
    }
   ],
   "source": [
    "plt.xscale('log')\n",
    "bins = 1.5**(np.arange(0,15))\n",
    "plt.hist(df_train[df_train['label']=='REAL']['mean_word_length'],bins=bins,alpha=0.8)\n",
    "plt.hist(df_train[df_train['label']=='FAKE']['mean_word_length'],bins=bins,alpha=0.8)\n",
    "plt.legend(('REAL','FAKE'))\n",
    "plt.tight_layout()\n",
    "plt.show()\n",
    "#plt.savefig('mean_word_length.svg')"
   ]
  },
  {
   "cell_type": "markdown",
   "metadata": {
    "colab_type": "text",
    "id": "__lK9D3flSSj"
   },
   "source": [
    "### url_count"
   ]
  },
  {
   "cell_type": "code",
   "execution_count": 236,
   "metadata": {
    "ExecuteTime": {
     "end_time": "2020-04-28T01:49:09.247560Z",
     "start_time": "2020-04-28T01:49:08.837418Z"
    },
    "colab": {
     "base_uri": "https://localhost:8080/",
     "height": 269
    },
    "colab_type": "code",
    "id": "mn7ZiEpr3MqF",
    "outputId": "14acdd3f-dab2-4ed6-9448-12e9faa0ee7c"
   },
   "outputs": [
    {
     "data": {
      "image/png": "[encoded data removed]",
      "text/plain": [
       "<Figure size 432x288 with 1 Axes>"
      ]
     },
     "metadata": {
      "needs_background": "light"
     },
     "output_type": "display_data"
    }
   ],
   "source": [
    "plt.xscale('log')\n",
    "bins = 1.5**(np.arange(0,15))\n",
    "plt.hist(df_train[df_train['label']=='REAL']['url_count'],bins=bins,alpha=0.8)\n",
    "plt.hist(df_train[df_train['label']=='FAKE']['url_count'],bins=bins,alpha=0.8)\n",
    "plt.legend(('REAL','FAKE'))\n",
    "plt.tight_layout()\n",
    "plt.show()\n",
    "#plt.savefig('url_count.svg')"
   ]
  },
  {
   "cell_type": "markdown",
   "metadata": {
    "colab_type": "text",
    "id": "hj9hFtOn3M0N"
   },
   "source": [
    "### hashtag_count"
   ]
  },
  {
   "cell_type": "code",
   "execution_count": 237,
   "metadata": {
    "ExecuteTime": {
     "end_time": "2020-04-28T01:49:10.624915Z",
     "start_time": "2020-04-28T01:49:10.160297Z"
    },
    "colab": {
     "base_uri": "https://localhost:8080/",
     "height": 269
    },
    "colab_type": "code",
    "id": "TIfoEvG83Mys",
    "outputId": "3c82fe50-bd57-4277-fbe9-ad4dbd2d865c"
   },
   "outputs": [
    {
     "data": {
      "image/png": "[encoded data removed]",
      "text/plain": [
       "<Figure size 432x288 with 1 Axes>"
      ]
     },
     "metadata": {
      "needs_background": "light"
     },
     "output_type": "display_data"
    }
   ],
   "source": [
    "plt.xscale('log')\n",
    "bins = 1.5**(np.arange(0,15))\n",
    "plt.hist(df_train[df_train['label']=='REAL']['hashtag_count'],bins=bins,alpha=0.8)\n",
    "plt.hist(df_train[df_train['label']=='FAKE']['hashtag_count'],bins=bins,alpha=0.8)\n",
    "plt.legend(('REAL','FAKE'))\n",
    "plt.tight_layout()\n",
    "plt.show()\n",
    "#plt.savefig('hashtag_count.svg')"
   ]
  },
  {
   "cell_type": "markdown",
   "metadata": {
    "colab_type": "text",
    "id": "zLOKHNu53-jD"
   },
   "source": [
    "### mention_count"
   ]
  },
  {
   "cell_type": "code",
   "execution_count": 238,
   "metadata": {
    "ExecuteTime": {
     "end_time": "2020-04-28T01:49:11.941969Z",
     "start_time": "2020-04-28T01:49:11.529370Z"
    },
    "colab": {
     "base_uri": "https://localhost:8080/",
     "height": 269
    },
    "colab_type": "code",
    "id": "ogviaoSi3-vD",
    "outputId": "b50cd886-8e83-4e0a-9618-16169b1b6ce6"
   },
   "outputs": [
    {
     "data": {
      "image/png": "[encoded data removed]",
      "text/plain": [
       "<Figure size 432x288 with 1 Axes>"
      ]
     },
     "metadata": {
      "needs_background": "light"
     },
     "output_type": "display_data"
    }
   ],
   "source": [
    "plt.xscale('log')\n",
    "bins = 1.5**(np.arange(0,15))\n",
    "plt.hist(df_train[df_train['label']=='REAL']['mention_count'],bins=bins,alpha=0.8)\n",
    "plt.hist(df_train[df_train['label']=='FAKE']['mention_count'],bins=bins,alpha=0.8)\n",
    "plt.legend(('REAL','FAKE'))\n",
    "plt.tight_layout()\n",
    "plt.show()\n",
    "#plt.savefig('mention_count.svg')"
   ]
  },
  {
   "cell_type": "markdown",
   "metadata": {
    "colab_type": "text",
    "id": "wC3g9TrnOpih"
   },
   "source": [
    "## Correlation Matrix"
   ]
  },
  {
   "cell_type": "code",
   "execution_count": 239,
   "metadata": {
    "ExecuteTime": {
     "end_time": "2020-04-28T01:49:14.535514Z",
     "start_time": "2020-04-28T01:49:13.681014Z"
    },
    "colab": {},
    "colab_type": "code",
    "id": "gQxBM09wOxH5"
   },
   "outputs": [
    {
     "data": {
      "image/png": "[encoded data removed]",
      "text/plain": [
       "<Figure size 864x504 with 2 Axes>"
      ]
     },
     "metadata": {
      "needs_background": "light"
     },
     "output_type": "display_data"
    }
   ],
   "source": [
    "plt.figure(figsize=(12,7))\n",
    "sns.heatmap(df_train.drop('Unnamed: 0', axis=1).corr(), annot=True, cmap='RdYlGn')\n",
    "plt.tight_layout()\n",
    "plt.show()\n",
    "#plt.savefig('correlation_matrix.svg')"
   ]
  },
  {
   "cell_type": "markdown",
   "metadata": {
    "colab_type": "text",
    "id": "fA1MUUo4lSRP"
   },
   "source": [
    "# Cosine Similarity"
   ]
  },
  {
   "cell_type": "markdown",
   "metadata": {
    "colab_type": "text",
    "id": "OkoaDmpObG35"
   },
   "source": [
    "## Similarity between 'REAL'"
   ]
  },
  {
   "cell_type": "code",
   "execution_count": 240,
   "metadata": {
    "ExecuteTime": {
     "end_time": "2020-04-28T01:49:46.348819Z",
     "start_time": "2020-04-28T01:49:36.050332Z"
    },
    "colab": {},
    "colab_type": "code",
    "id": "q_gIDG91VhWU"
   },
   "outputs": [],
   "source": [
    "nlp = spacy.load('en_core_web_lg')"
   ]
  },
  {
   "cell_type": "code",
   "execution_count": 241,
   "metadata": {
    "ExecuteTime": {
     "end_time": "2020-04-28T01:49:47.398123Z",
     "start_time": "2020-04-28T01:49:47.391166Z"
    },
    "colab": {},
    "colab_type": "code",
    "id": "nBIQWAkCla7i"
   },
   "outputs": [],
   "source": [
    "# We create a dataframe with the text labeled 'REAL'\n",
    "df_real = df_train[df_train['label'] == 'REAL']"
   ]
  },
  {
   "cell_type": "code",
   "execution_count": 242,
   "metadata": {
    "ExecuteTime": {
     "end_time": "2020-04-28T01:49:50.354884Z",
     "start_time": "2020-04-28T01:49:50.346183Z"
    },
    "colab": {},
    "colab_type": "code",
    "id": "QUuFXaRzlbBA"
   },
   "outputs": [],
   "source": [
    "#We create a dataframe with the text labeled 'FAKE'\n",
    "df_fake = df_train[df_train['label'] == 'FAKE']"
   ]
  },
  {
   "cell_type": "code",
   "execution_count": 243,
   "metadata": {
    "ExecuteTime": {
     "end_time": "2020-04-28T01:49:52.935850Z",
     "start_time": "2020-04-28T01:49:52.927119Z"
    },
    "colab": {
     "base_uri": "https://localhost:8080/",
     "height": 102
    },
    "colab_type": "code",
    "id": "sBvmAGSJlbFv",
    "outputId": "af566795-098d-45d8-efcd-e4a9ec24f163"
   },
   "outputs": [
    {
     "name": "stdout",
     "output_type": "stream",
     "text": [
      "REAL    2847\n",
      "FAKE    2827\n",
      "Name: label, dtype: int64\n",
      "2827\n",
      "2847\n"
     ]
    }
   ],
   "source": [
    "print(df_train['label'].value_counts())\n",
    "print(len(df_fake))\n",
    "print(len(df_real))"
   ]
  },
  {
   "cell_type": "code",
   "execution_count": 244,
   "metadata": {
    "ExecuteTime": {
     "end_time": "2020-04-28T01:49:55.557744Z",
     "start_time": "2020-04-28T01:49:55.199410Z"
    },
    "colab": {},
    "colab_type": "code",
    "id": "8mmSmewQT71D"
   },
   "outputs": [],
   "source": [
    "a = nlp(df_real.iloc[0].loc['text'])"
   ]
  },
  {
   "cell_type": "code",
   "execution_count": 245,
   "metadata": {
    "ExecuteTime": {
     "end_time": "2020-04-28T01:50:55.222503Z",
     "start_time": "2020-04-28T01:50:54.970818Z"
    },
    "colab": {},
    "colab_type": "code",
    "id": "11zamk38T7yT"
   },
   "outputs": [],
   "source": [
    "b = nlp(df_real.iloc[1].loc['text'])"
   ]
  },
  {
   "cell_type": "code",
   "execution_count": 246,
   "metadata": {
    "ExecuteTime": {
     "end_time": "2020-04-28T01:51:04.097601Z",
     "start_time": "2020-04-28T01:51:03.809672Z"
    },
    "colab": {},
    "colab_type": "code",
    "id": "3rBSv7kNT7vn"
   },
   "outputs": [],
   "source": [
    "c = nlp(df_fake.iloc[0].loc['text'])"
   ]
  },
  {
   "cell_type": "code",
   "execution_count": 247,
   "metadata": {
    "ExecuteTime": {
     "end_time": "2020-04-28T01:51:05.477493Z",
     "start_time": "2020-04-28T01:51:05.454259Z"
    },
    "colab": {
     "base_uri": "https://localhost:8080/",
     "height": 34
    },
    "colab_type": "code",
    "id": "eRhJtk2iT7tO",
    "outputId": "8c739c57-a2e7-4d97-bc98-ca260a7f1872"
   },
   "outputs": [
    {
     "data": {
      "text/plain": [
       "0.9771196580016692"
      ]
     },
     "execution_count": 247,
     "metadata": {},
     "output_type": "execute_result"
    }
   ],
   "source": [
    "# High similarity between 2 texts labeled 'REAL'\n",
    "a.similarity(b)"
   ]
  },
  {
   "cell_type": "code",
   "execution_count": 248,
   "metadata": {
    "ExecuteTime": {
     "end_time": "2020-04-28T01:51:07.488962Z",
     "start_time": "2020-04-28T01:51:07.475773Z"
    }
   },
   "outputs": [
    {
     "data": {
      "text/plain": [
       "0.9778839166531763"
      ]
     },
     "execution_count": 248,
     "metadata": {},
     "output_type": "execute_result"
    }
   ],
   "source": [
    "# High similarity between one 'REAL' and one 'FAKE' text\n",
    "a.similarity(c)"
   ]
  },
  {
   "cell_type": "code",
   "execution_count": 249,
   "metadata": {
    "ExecuteTime": {
     "end_time": "2020-04-28T01:51:12.884155Z",
     "start_time": "2020-04-28T01:51:12.880575Z"
    },
    "colab": {},
    "colab_type": "code",
    "id": "AwUEQZFhT7ql"
   },
   "outputs": [],
   "source": [
    "# We define a function that convert each text into a spacy document\n",
    "def simz(text):\n",
    "    text = nlp(text)\n",
    "    return text"
   ]
  },
  {
   "cell_type": "code",
   "execution_count": 251,
   "metadata": {
    "ExecuteTime": {
     "end_time": "2020-04-28T01:52:48.143940Z",
     "start_time": "2020-04-28T01:52:48.139565Z"
    },
    "colab": {
     "base_uri": "https://localhost:8080/",
     "height": 119
    },
    "colab_type": "code",
    "id": "-BCYb-DZT7oa",
    "outputId": "6369eb85-5ac7-405d-c29a-1394689ced07"
   },
   "outputs": [],
   "source": [
    "# We apply the function on the dataframe\n",
    "df_real['nlp'] = df_real['text'].apply(simz)"
   ]
  },
  {
   "cell_type": "code",
   "execution_count": null,
   "metadata": {
    "ExecuteTime": {
     "end_time": "2020-04-27T15:45:03.036832Z",
     "start_time": "2020-04-27T15:44:53.559Z"
    },
    "colab": {},
    "colab_type": "code",
    "id": "lgpEYbUyT7k9"
   },
   "outputs": [],
   "source": [
    "# We create a similarity list between text labeled 'REAL'\n",
    "real_similarity = []\n",
    "\n",
    "for i in df_real['nlp']:\n",
    "    for j in df_real['nlp']:\n",
    "        if i != j:\n",
    "            real_similarity.append(i.similarity(j))"
   ]
  },
  {
   "cell_type": "code",
   "execution_count": null,
   "metadata": {
    "ExecuteTime": {
     "end_time": "2020-04-27T15:45:03.038899Z",
     "start_time": "2020-04-27T15:44:53.562Z"
    },
    "colab": {
     "base_uri": "https://localhost:8080/",
     "height": 34
    },
    "colab_type": "code",
    "id": "pX3XiMFCT7jJ",
    "outputId": "39bf42de-2da2-4a83-dc64-568d20849118"
   },
   "outputs": [],
   "source": [
    "len(real_similarity)"
   ]
  },
  {
   "cell_type": "code",
   "execution_count": null,
   "metadata": {
    "ExecuteTime": {
     "end_time": "2020-04-27T15:45:03.040697Z",
     "start_time": "2020-04-27T15:44:53.564Z"
    },
    "colab": {
     "base_uri": "https://localhost:8080/",
     "height": 34
    },
    "colab_type": "code",
    "id": "CXGHl60sT7gC",
    "outputId": "c0de5f7f-8c10-4176-ce83-463414f1a3a1"
   },
   "outputs": [],
   "source": [
    "# Similarity mean between text labeled 'REAL'\n",
    "avg = mean(real_similarity)\n",
    "print(\"The average is \", round(avg,3))"
   ]
  },
  {
   "cell_type": "markdown",
   "metadata": {
    "colab_type": "text",
    "id": "O-BkhT9tbKVp"
   },
   "source": [
    "## Similarity between 'FAKE'"
   ]
  },
  {
   "cell_type": "code",
   "execution_count": null,
   "metadata": {
    "ExecuteTime": {
     "end_time": "2020-04-27T15:45:03.043927Z",
     "start_time": "2020-04-27T15:44:53.567Z"
    },
    "colab": {
     "base_uri": "https://localhost:8080/",
     "height": 119
    },
    "colab_type": "code",
    "id": "KNHjRYwxT7ce",
    "outputId": "d7c265f1-a33c-4392-ad70-37f985c25a6b"
   },
   "outputs": [],
   "source": [
    "#apply function\n",
    "df_fake['nlp'] = df_fake['text'].apply(simz)"
   ]
  },
  {
   "cell_type": "code",
   "execution_count": null,
   "metadata": {
    "ExecuteTime": {
     "end_time": "2020-04-27T15:45:03.046603Z",
     "start_time": "2020-04-27T15:44:53.570Z"
    },
    "colab": {
     "base_uri": "https://localhost:8080/",
     "height": 1000
    },
    "colab_type": "code",
    "id": "Sz_QA8NtbbTv",
    "outputId": "7d721673-5959-4749-bf23-92be7e96e928"
   },
   "outputs": [],
   "source": [
    "#list de similarity de tous les text real entre eux\n",
    "fake_similarity = []\n",
    "\n",
    "for i in df_fake['nlp']:\n",
    "    for j in df_fake['nlp']:\n",
    "        if i != j:\n",
    "            fake_similarity.append(i.similarity(j))"
   ]
  },
  {
   "cell_type": "code",
   "execution_count": null,
   "metadata": {
    "ExecuteTime": {
     "end_time": "2020-04-27T15:45:03.048477Z",
     "start_time": "2020-04-27T15:44:53.577Z"
    },
    "colab": {
     "base_uri": "https://localhost:8080/",
     "height": 34
    },
    "colab_type": "code",
    "id": "mrJBPTdJbbKv",
    "outputId": "2a1594a5-8ce7-41ff-8909-e78d3907ab53"
   },
   "outputs": [],
   "source": [
    "len(fake_similarity)"
   ]
  },
  {
   "cell_type": "code",
   "execution_count": null,
   "metadata": {
    "ExecuteTime": {
     "end_time": "2020-04-27T15:45:03.050689Z",
     "start_time": "2020-04-27T15:44:53.580Z"
    },
    "colab": {
     "base_uri": "https://localhost:8080/",
     "height": 34
    },
    "colab_type": "code",
    "id": "Ox3fd4zbT7Zs",
    "outputId": "fbf4f9fb-a2b9-4104-c06c-159182f11360"
   },
   "outputs": [],
   "source": [
    "# Similarity mean between text labeled 'FAKE'\n",
    "from statistics import mean\n",
    "\n",
    "avg1 = mean(fake_similarity)\n",
    "print(\"The average is \", round(avg1,3))"
   ]
  },
  {
   "cell_type": "markdown",
   "metadata": {
    "colab_type": "text",
    "id": "FLTrkJbDkY3o"
   },
   "source": [
    "## Similarity between 'REAL' and 'FAKE' "
   ]
  },
  {
   "cell_type": "code",
   "execution_count": null,
   "metadata": {
    "ExecuteTime": {
     "end_time": "2020-04-27T15:45:03.052547Z",
     "start_time": "2020-04-27T15:44:53.586Z"
    },
    "colab": {
     "base_uri": "https://localhost:8080/",
     "height": 1000
    },
    "colab_type": "code",
    "id": "RH8pw-QvkYrB",
    "outputId": "440475e9-e461-4035-fe5e-f19745f461e4"
   },
   "outputs": [],
   "source": [
    "#list de similarity de tous les text real entre eux\n",
    "real_fake_similarity = []\n",
    "\n",
    "for i in df_real['nlp']:\n",
    "    for j in df_fake['nlp']:\n",
    "      real_fake_similarity.append(i.similarity(j))"
   ]
  },
  {
   "cell_type": "code",
   "execution_count": null,
   "metadata": {
    "ExecuteTime": {
     "end_time": "2020-04-27T15:45:03.054351Z",
     "start_time": "2020-04-27T15:44:53.589Z"
    },
    "colab": {
     "base_uri": "https://localhost:8080/",
     "height": 34
    },
    "colab_type": "code",
    "id": "d_uTeENakYnZ",
    "outputId": "bd4ff016-4550-4d73-9d49-7d1d720f3da6"
   },
   "outputs": [],
   "source": [
    "len(real_fake_similarity)"
   ]
  },
  {
   "cell_type": "code",
   "execution_count": null,
   "metadata": {
    "ExecuteTime": {
     "end_time": "2020-04-27T15:45:03.056194Z",
     "start_time": "2020-04-27T15:44:53.629Z"
    },
    "colab": {
     "base_uri": "https://localhost:8080/",
     "height": 34
    },
    "colab_type": "code",
    "id": "UPJlV2AakYk_",
    "outputId": "f9500c93-d5aa-4a6c-811d-bfd8627c5eac"
   },
   "outputs": [],
   "source": [
    "#moyenne de similarity entre les text real entre eux\n",
    "avg2 = mean(real_fake_similarity)\n",
    "print(\"The average is \", round(avg1,3))"
   ]
  },
  {
   "cell_type": "markdown",
   "metadata": {
    "colab_type": "text",
    "id": "GJjhiTw7scSN"
   },
   "source": [
    ">**Final results:** <br>\n",
    "Real Similarity = 0.958 <br>\n",
    "Fake Similarity = 0.937 <br>\n",
    "Between Real & Fake Similarity = 0.945"
   ]
  },
  {
   "cell_type": "markdown",
   "metadata": {
    "colab_type": "text",
    "id": "HSQG3nNElbNK"
   },
   "source": [
    "# Topic Modeling with Latent Dirichlet Allocation"
   ]
  },
  {
   "cell_type": "markdown",
   "metadata": {
    "colab_type": "text",
    "id": "ttaFyxmO5Boy"
   },
   "source": [
    "## Label 'REAL'"
   ]
  },
  {
   "cell_type": "markdown",
   "metadata": {
    "colab_type": "text",
    "id": "A8eYVuAglbMK"
   },
   "source": [
    "### Preprocessing"
   ]
  },
  {
   "cell_type": "code",
   "execution_count": 166,
   "metadata": {
    "ExecuteTime": {
     "end_time": "2020-04-27T21:43:03.391992Z",
     "start_time": "2020-04-27T21:43:03.387912Z"
    },
    "colab": {},
    "colab_type": "code",
    "id": "PhXCPkkElqMI"
   },
   "outputs": [],
   "source": [
    "cv = CountVectorizer(max_df=0.95, min_df=2, stop_words='english') # each word have to occur in min 2 doc"
   ]
  },
  {
   "cell_type": "code",
   "execution_count": 167,
   "metadata": {
    "ExecuteTime": {
     "end_time": "2020-04-27T21:43:05.910230Z",
     "start_time": "2020-04-27T21:43:04.238899Z"
    },
    "colab": {},
    "colab_type": "code",
    "id": "nsjdawGwlqSA"
   },
   "outputs": [],
   "source": [
    "dtm = cv.fit_transform(df_train[df_train.label == 'REAL']['text'])"
   ]
  },
  {
   "cell_type": "code",
   "execution_count": 168,
   "metadata": {
    "ExecuteTime": {
     "end_time": "2020-04-27T21:43:06.807283Z",
     "start_time": "2020-04-27T21:43:06.797474Z"
    },
    "colab": {
     "base_uri": "https://localhost:8080/",
     "height": 51
    },
    "colab_type": "code",
    "id": "0d-k5_9plqYD",
    "outputId": "175b308a-79bb-4c7a-a3a4-7d380b90a6e3"
   },
   "outputs": [
    {
     "data": {
      "text/plain": [
       "<2847x26597 sparse matrix of type '<class 'numpy.int64'>'\n",
       "\twith 829618 stored elements in Compressed Sparse Row format>"
      ]
     },
     "execution_count": 168,
     "metadata": {},
     "output_type": "execute_result"
    }
   ],
   "source": [
    "dtm"
   ]
  },
  {
   "cell_type": "markdown",
   "metadata": {
    "colab_type": "text",
    "id": "kHwrsbI5lbLA"
   },
   "source": [
    "### LDA"
   ]
  },
  {
   "cell_type": "code",
   "execution_count": 169,
   "metadata": {
    "ExecuteTime": {
     "end_time": "2020-04-27T21:43:16.869128Z",
     "start_time": "2020-04-27T21:43:16.864325Z"
    },
    "colab": {},
    "colab_type": "code",
    "id": "XYbi52ob5qtK"
   },
   "outputs": [],
   "source": [
    "LDA = LatentDirichletAllocation(n_components=2, random_state=42) # number of topics"
   ]
  },
  {
   "cell_type": "code",
   "execution_count": 170,
   "metadata": {
    "ExecuteTime": {
     "end_time": "2020-04-27T21:43:40.764490Z",
     "start_time": "2020-04-27T21:43:17.580041Z"
    },
    "colab": {
     "base_uri": "https://localhost:8080/",
     "height": 136
    },
    "colab_type": "code",
    "id": "tI0IUG-q5q8B",
    "outputId": "02833e25-67ab-4499-8a93-45648a90700b"
   },
   "outputs": [
    {
     "data": {
      "text/plain": [
       "LatentDirichletAllocation(batch_size=128, doc_topic_prior=None,\n",
       "                          evaluate_every=-1, learning_decay=0.7,\n",
       "                          learning_method='batch', learning_offset=10.0,\n",
       "                          max_doc_update_iter=100, max_iter=10,\n",
       "                          mean_change_tol=0.001, n_components=2, n_jobs=None,\n",
       "                          perp_tol=0.1, random_state=42, topic_word_prior=None,\n",
       "                          total_samples=1000000.0, verbose=0)"
      ]
     },
     "execution_count": 170,
     "metadata": {},
     "output_type": "execute_result"
    }
   ],
   "source": [
    "LDA.fit(dtm)"
   ]
  },
  {
   "cell_type": "markdown",
   "metadata": {
    "colab_type": "text",
    "id": "eipf03A25q5r"
   },
   "source": [
    "### Showing Top Words per topic"
   ]
  },
  {
   "cell_type": "code",
   "execution_count": 171,
   "metadata": {
    "ExecuteTime": {
     "end_time": "2020-04-27T22:12:32.046195Z",
     "start_time": "2020-04-27T22:12:31.382981Z"
    },
    "colab": {
     "base_uri": "https://localhost:8080/",
     "height": 173
    },
    "colab_type": "code",
    "id": "XMvXObMX5q3Y",
    "outputId": "bd21d0b1-2117-4b0d-973b-490fe3e3e9bb"
   },
   "outputs": [
    {
     "name": "stdout",
     "output_type": "stream",
     "text": [
      "The Top 15 words for topic #0\n",
      "['cruz', 'presidential', 'democratic', 'state', 'voters', 'people', 'president', 'sanders', 'new', 'party', 'republican', 'campaign', 'said', 'clinton', 'trump']\n",
      "\n",
      "\n",
      "The Top 15 words for topic #1\n",
      "['time', 'house', 'court', 'new', 'law', 'iran', 'states', 'year', 'police', 'government', 'president', 'people', 'state', 'obama', 'said']\n",
      "\n",
      "\n"
     ]
    }
   ],
   "source": [
    "for index, topic in enumerate(LDA.components_):\n",
    "    print(f'The Top 15 words for topic #{index}')\n",
    "    print([cv.get_feature_names()[i] for i in topic.argsort()[-15:]])\n",
    "    print('\\n')"
   ]
  },
  {
   "cell_type": "markdown",
   "metadata": {
    "colab_type": "text",
    "id": "kN01An6YGjJe"
   },
   "source": [
    "## Label 'FAKE'"
   ]
  },
  {
   "cell_type": "markdown",
   "metadata": {},
   "source": [
    "### Preprocessing"
   ]
  },
  {
   "cell_type": "code",
   "execution_count": 178,
   "metadata": {
    "ExecuteTime": {
     "end_time": "2020-04-27T22:16:06.634810Z",
     "start_time": "2020-04-27T22:16:06.631395Z"
    },
    "colab": {},
    "colab_type": "code",
    "id": "ko4RFB-8GjRo"
   },
   "outputs": [],
   "source": [
    "cv = CountVectorizer(max_df=0.95, min_df=2, stop_words='english') # each word have to occur in min 2 doc"
   ]
  },
  {
   "cell_type": "code",
   "execution_count": 179,
   "metadata": {
    "ExecuteTime": {
     "end_time": "2020-04-27T22:16:08.541556Z",
     "start_time": "2020-04-27T22:16:07.022309Z"
    },
    "colab": {},
    "colab_type": "code",
    "id": "KArUib4xMsNk"
   },
   "outputs": [],
   "source": [
    "dtm = cv.fit_transform(df_train[df_train.label == 'FAKE']['text'])"
   ]
  },
  {
   "cell_type": "code",
   "execution_count": 180,
   "metadata": {
    "ExecuteTime": {
     "end_time": "2020-04-27T22:16:09.081372Z",
     "start_time": "2020-04-27T22:16:09.074083Z"
    },
    "colab": {},
    "colab_type": "code",
    "id": "mhCCDAM6MsXp"
   },
   "outputs": [
    {
     "data": {
      "text/plain": [
       "<2827x27774 sparse matrix of type '<class 'numpy.int64'>'\n",
       "\twith 632973 stored elements in Compressed Sparse Row format>"
      ]
     },
     "execution_count": 180,
     "metadata": {},
     "output_type": "execute_result"
    }
   ],
   "source": [
    "dtm"
   ]
  },
  {
   "cell_type": "markdown",
   "metadata": {
    "colab": {},
    "colab_type": "code",
    "id": "bVqdsuoqMsWZ"
   },
   "source": [
    "### LDA"
   ]
  },
  {
   "cell_type": "code",
   "execution_count": 181,
   "metadata": {
    "ExecuteTime": {
     "end_time": "2020-04-27T22:16:14.846551Z",
     "start_time": "2020-04-27T22:16:14.842616Z"
    }
   },
   "outputs": [],
   "source": [
    "LDA = LatentDirichletAllocation(n_components=2, random_state=42) # number of topics"
   ]
  },
  {
   "cell_type": "code",
   "execution_count": 182,
   "metadata": {
    "ExecuteTime": {
     "end_time": "2020-04-27T22:16:37.274497Z",
     "start_time": "2020-04-27T22:16:15.397807Z"
    }
   },
   "outputs": [
    {
     "data": {
      "text/plain": [
       "LatentDirichletAllocation(batch_size=128, doc_topic_prior=None,\n",
       "                          evaluate_every=-1, learning_decay=0.7,\n",
       "                          learning_method='batch', learning_offset=10.0,\n",
       "                          max_doc_update_iter=100, max_iter=10,\n",
       "                          mean_change_tol=0.001, n_components=2, n_jobs=None,\n",
       "                          perp_tol=0.1, random_state=42, topic_word_prior=None,\n",
       "                          total_samples=1000000.0, verbose=0)"
      ]
     },
     "execution_count": 182,
     "metadata": {},
     "output_type": "execute_result"
    }
   ],
   "source": [
    "LDA.fit(dtm)"
   ]
  },
  {
   "cell_type": "markdown",
   "metadata": {},
   "source": [
    "### Showing Top Words per topic"
   ]
  },
  {
   "cell_type": "code",
   "execution_count": 183,
   "metadata": {
    "ExecuteTime": {
     "end_time": "2020-04-27T22:16:40.027568Z",
     "start_time": "2020-04-27T22:16:39.331272Z"
    }
   },
   "outputs": [
    {
     "name": "stdout",
     "output_type": "stream",
     "text": [
      "The Top 15 words for topic #0\n",
      "['country', 'states', 'year', 'state', 'said', 'american', 'years', 'war', 'government', 'time', 'just', 'new', 'like', 'world', 'people']\n",
      "\n",
      "\n",
      "The Top 15 words for topic #1\n",
      "['new', 'media', 'state', 'just', 'donald', 'fbi', '2016', 'president', 'campaign', 'people', 'said', 'election', 'hillary', 'trump', 'clinton']\n",
      "\n",
      "\n"
     ]
    }
   ],
   "source": [
    "for index, topic in enumerate(LDA.components_):\n",
    "    print(f'The Top 15 words for topic #{index}')\n",
    "    print([cv.get_feature_names()[i] for i in topic.argsort()[-15:]])\n",
    "    print('\\n')"
   ]
  },
  {
   "cell_type": "markdown",
   "metadata": {
    "colab_type": "text",
    "id": "Rt-dMmc3kd1g"
   },
   "source": [
    "# Checking for missing values"
   ]
  },
  {
   "cell_type": "code",
   "execution_count": 252,
   "metadata": {
    "ExecuteTime": {
     "end_time": "2020-04-28T01:53:24.051560Z",
     "start_time": "2020-04-28T01:53:24.039528Z"
    },
    "colab": {
     "base_uri": "https://localhost:8080/",
     "height": 153
    },
    "colab_type": "code",
    "id": "pTzuOw2RkhpH",
    "outputId": "9f5a354a-12e8-40ab-e321-69ff953c5b88"
   },
   "outputs": [
    {
     "data": {
      "text/plain": [
       "Unnamed: 0           0\n",
       "title                0\n",
       "text                 0\n",
       "label                0\n",
       "char_count           0\n",
       "punct_count          0\n",
       "word_count           0\n",
       "unique_word_count    0\n",
       "stop_word_count      0\n",
       "mean_word_length     0\n",
       "url_count            0\n",
       "hashtag_count        0\n",
       "mention_count        0\n",
       "dtype: int64"
      ]
     },
     "execution_count": 252,
     "metadata": {},
     "output_type": "execute_result"
    }
   ],
   "source": [
    "# There are no missing values\n",
    "df_train.isnull().sum()"
   ]
  },
  {
   "cell_type": "code",
   "execution_count": 253,
   "metadata": {
    "ExecuteTime": {
     "end_time": "2020-04-28T01:53:25.349516Z",
     "start_time": "2020-04-28T01:53:25.335394Z"
    },
    "colab": {
     "base_uri": "https://localhost:8080/",
     "height": 306
    },
    "colab_type": "code",
    "id": "DGUPjf8MkimP",
    "outputId": "454c0747-475c-4053-ccd1-b9eb7082ffdd"
   },
   "outputs": [
    {
     "data": {
      "text/html": [
       "<div>\n",
       "<style scoped>\n",
       "    .dataframe tbody tr th:only-of-type {\n",
       "        vertical-align: middle;\n",
       "    }\n",
       "\n",
       "    .dataframe tbody tr th {\n",
       "        vertical-align: top;\n",
       "    }\n",
       "\n",
       "    .dataframe thead th {\n",
       "        text-align: right;\n",
       "    }\n",
       "</style>\n",
       "<table border=\"1\" class=\"dataframe\">\n",
       "  <thead>\n",
       "    <tr style=\"text-align: right;\">\n",
       "      <th></th>\n",
       "      <th>Unnamed: 0</th>\n",
       "      <th>title</th>\n",
       "      <th>text</th>\n",
       "      <th>label</th>\n",
       "      <th>char_count</th>\n",
       "      <th>punct_count</th>\n",
       "      <th>word_count</th>\n",
       "      <th>unique_word_count</th>\n",
       "      <th>stop_word_count</th>\n",
       "      <th>mean_word_length</th>\n",
       "      <th>url_count</th>\n",
       "      <th>hashtag_count</th>\n",
       "      <th>mention_count</th>\n",
       "    </tr>\n",
       "  </thead>\n",
       "  <tbody>\n",
       "    <tr>\n",
       "      <td>1357</td>\n",
       "      <td>9957</td>\n",
       "      <td>American Dream, Revisited</td>\n",
       "      <td>Will Trump pull a Brexit times ten? What would...</td>\n",
       "      <td>FAKE</td>\n",
       "      <td>7447</td>\n",
       "      <td>193</td>\n",
       "      <td>1195</td>\n",
       "      <td>635</td>\n",
       "      <td>492</td>\n",
       "      <td>5.231799</td>\n",
       "      <td>0</td>\n",
       "      <td>0</td>\n",
       "      <td>1</td>\n",
       "    </tr>\n",
       "    <tr>\n",
       "      <td>2080</td>\n",
       "      <td>7596</td>\n",
       "      <td>Clintons Are Under Multiple FBI Investigations...</td>\n",
       "      <td>Clintons Are Under Multiple FBI Investigations...</td>\n",
       "      <td>FAKE</td>\n",
       "      <td>3085</td>\n",
       "      <td>46</td>\n",
       "      <td>507</td>\n",
       "      <td>289</td>\n",
       "      <td>214</td>\n",
       "      <td>5.071006</td>\n",
       "      <td>0</td>\n",
       "      <td>0</td>\n",
       "      <td>0</td>\n",
       "    </tr>\n",
       "    <tr>\n",
       "      <td>2718</td>\n",
       "      <td>8905</td>\n",
       "      <td>The FBI Can’t Actually Investigate a Candidate...</td>\n",
       "      <td>Dispatches from Eric Zuesse This piece is cros...</td>\n",
       "      <td>FAKE</td>\n",
       "      <td>19297</td>\n",
       "      <td>565</td>\n",
       "      <td>3210</td>\n",
       "      <td>1288</td>\n",
       "      <td>1419</td>\n",
       "      <td>5.011838</td>\n",
       "      <td>0</td>\n",
       "      <td>1</td>\n",
       "      <td>0</td>\n",
       "    </tr>\n",
       "    <tr>\n",
       "      <td>812</td>\n",
       "      <td>8752</td>\n",
       "      <td>Confirmed: Public overwhelmingly (10-to-1) say...</td>\n",
       "      <td>Print \\n[Ed. – Every now and then the facade c...</td>\n",
       "      <td>FAKE</td>\n",
       "      <td>1191</td>\n",
       "      <td>25</td>\n",
       "      <td>200</td>\n",
       "      <td>144</td>\n",
       "      <td>70</td>\n",
       "      <td>4.940000</td>\n",
       "      <td>0</td>\n",
       "      <td>0</td>\n",
       "      <td>0</td>\n",
       "    </tr>\n",
       "    <tr>\n",
       "      <td>4886</td>\n",
       "      <td>7804</td>\n",
       "      <td>Nanny In Jail After Force Feeding Baby To Death</td>\n",
       "      <td>Nanny In Jail After Force Feeding Baby To Deat...</td>\n",
       "      <td>FAKE</td>\n",
       "      <td>1573</td>\n",
       "      <td>38</td>\n",
       "      <td>257</td>\n",
       "      <td>180</td>\n",
       "      <td>95</td>\n",
       "      <td>5.081712</td>\n",
       "      <td>0</td>\n",
       "      <td>0</td>\n",
       "      <td>0</td>\n",
       "    </tr>\n",
       "  </tbody>\n",
       "</table>\n",
       "</div>"
      ],
      "text/plain": [
       "      Unnamed: 0                                              title  \\\n",
       "1357        9957                          American Dream, Revisited   \n",
       "2080        7596  Clintons Are Under Multiple FBI Investigations...   \n",
       "2718        8905  The FBI Can’t Actually Investigate a Candidate...   \n",
       "812         8752  Confirmed: Public overwhelmingly (10-to-1) say...   \n",
       "4886        7804    Nanny In Jail After Force Feeding Baby To Death   \n",
       "\n",
       "                                                   text label  char_count  \\\n",
       "1357  Will Trump pull a Brexit times ten? What would...  FAKE        7447   \n",
       "2080  Clintons Are Under Multiple FBI Investigations...  FAKE        3085   \n",
       "2718  Dispatches from Eric Zuesse This piece is cros...  FAKE       19297   \n",
       "812   Print \\n[Ed. – Every now and then the facade c...  FAKE        1191   \n",
       "4886  Nanny In Jail After Force Feeding Baby To Deat...  FAKE        1573   \n",
       "\n",
       "      punct_count  word_count  unique_word_count  stop_word_count  \\\n",
       "1357          193        1195                635              492   \n",
       "2080           46         507                289              214   \n",
       "2718          565        3210               1288             1419   \n",
       "812            25         200                144               70   \n",
       "4886           38         257                180               95   \n",
       "\n",
       "      mean_word_length  url_count  hashtag_count  mention_count  \n",
       "1357          5.231799          0              0              1  \n",
       "2080          5.071006          0              0              0  \n",
       "2718          5.011838          0              1              0  \n",
       "812           4.940000          0              0              0  \n",
       "4886          5.081712          0              0              0  "
      ]
     },
     "execution_count": 253,
     "metadata": {},
     "output_type": "execute_result"
    }
   ],
   "source": [
    "df_train.head()"
   ]
  },
  {
   "cell_type": "markdown",
   "metadata": {
    "colab_type": "text",
    "id": "-ZDRYcS6fdcG"
   },
   "source": [
    "# Text Classification"
   ]
  },
  {
   "cell_type": "markdown",
   "metadata": {
    "colab": {},
    "colab_type": "code",
    "id": "lF233miwfGkH"
   },
   "source": [
    "## Only with Numerical Features"
   ]
  },
  {
   "cell_type": "markdown",
   "metadata": {
    "colab": {},
    "colab_type": "code",
    "id": "e63iohwSfGih"
   },
   "source": [
    "### Split the data into train & valid sets"
   ]
  },
  {
   "cell_type": "code",
   "execution_count": 254,
   "metadata": {
    "ExecuteTime": {
     "end_time": "2020-04-28T01:53:38.767205Z",
     "start_time": "2020-04-28T01:53:38.761848Z"
    },
    "colab": {},
    "colab_type": "code",
    "id": "USWgZwHTfGg6"
   },
   "outputs": [],
   "source": [
    "X = df_train._get_numeric_data().drop('Unnamed: 0', axis=1)\n",
    "y = df_train.label"
   ]
  },
  {
   "cell_type": "code",
   "execution_count": 255,
   "metadata": {
    "ExecuteTime": {
     "end_time": "2020-04-28T01:53:39.142200Z",
     "start_time": "2020-04-28T01:53:39.133676Z"
    },
    "colab": {},
    "colab_type": "code",
    "id": "i-WzzOBXfGfS"
   },
   "outputs": [],
   "source": [
    "X_train, X_valid, y_train, y_valid = train_test_split(X, y, test_size=0.3, random_state=42)"
   ]
  },
  {
   "cell_type": "code",
   "execution_count": 256,
   "metadata": {
    "ExecuteTime": {
     "end_time": "2020-04-28T01:53:39.467723Z",
     "start_time": "2020-04-28T01:53:39.463722Z"
    },
    "colab": {},
    "colab_type": "code",
    "id": "OCMlpsbSfGaS"
   },
   "outputs": [
    {
     "name": "stdout",
     "output_type": "stream",
     "text": [
      "Training Data Shape: (3971, 9)\n",
      "Testing Data Shape: (1703, 9)\n"
     ]
    }
   ],
   "source": [
    "print(f'Training Data Shape: {X_train.shape}')\n",
    "print(f'Testing Data Shape: {X_valid.shape}')"
   ]
  },
  {
   "cell_type": "markdown",
   "metadata": {
    "colab": {},
    "colab_type": "code",
    "id": "ZPT1BgoEfGVD"
   },
   "source": [
    "### Train a Logistic Regression Classifier"
   ]
  },
  {
   "cell_type": "code",
   "execution_count": 257,
   "metadata": {
    "ExecuteTime": {
     "end_time": "2020-04-28T01:53:43.841739Z",
     "start_time": "2020-04-28T01:53:43.714155Z"
    },
    "colab": {},
    "colab_type": "code",
    "id": "Q1-vvkG3fGSq"
   },
   "outputs": [
    {
     "data": {
      "text/plain": [
       "LogisticRegression(C=1.0, class_weight=None, dual=False, fit_intercept=True,\n",
       "                   intercept_scaling=1, l1_ratio=None, max_iter=500,\n",
       "                   multi_class='auto', n_jobs=None, penalty='l2',\n",
       "                   random_state=42, solver='lbfgs', tol=0.0001, verbose=0,\n",
       "                   warm_start=False)"
      ]
     },
     "execution_count": 257,
     "metadata": {},
     "output_type": "execute_result"
    }
   ],
   "source": [
    "lr_model = LogisticRegression(solver='lbfgs', random_state=42, max_iter=500)\n",
    "\n",
    "lr_model.fit(X_train, y_train)"
   ]
  },
  {
   "cell_type": "code",
   "execution_count": 258,
   "metadata": {
    "ExecuteTime": {
     "end_time": "2020-04-28T01:53:44.492112Z",
     "start_time": "2020-04-28T01:53:44.479268Z"
    }
   },
   "outputs": [
    {
     "data": {
      "text/plain": [
       "0.6652965355255431"
      ]
     },
     "execution_count": 258,
     "metadata": {},
     "output_type": "execute_result"
    }
   ],
   "source": [
    "lr_model.score(X_valid, y_valid)"
   ]
  },
  {
   "cell_type": "markdown",
   "metadata": {
    "colab": {},
    "colab_type": "code",
    "id": "uLstSw52fGQM"
   },
   "source": [
    "#### Report the results"
   ]
  },
  {
   "cell_type": "code",
   "execution_count": 78,
   "metadata": {
    "ExecuteTime": {
     "end_time": "2020-04-27T15:45:39.932605Z",
     "start_time": "2020-04-27T15:45:39.917806Z"
    },
    "colab": {},
    "colab_type": "code",
    "id": "4507gRulfGNl"
   },
   "outputs": [
    {
     "name": "stdout",
     "output_type": "stream",
     "text": [
      "[[584 258]\n",
      " [312 549]]\n"
     ]
    }
   ],
   "source": [
    "y_pred = lr_model.predict(X_valid)\n",
    "print(confusion_matrix(y_valid, y_pred))"
   ]
  },
  {
   "cell_type": "code",
   "execution_count": 79,
   "metadata": {
    "ExecuteTime": {
     "end_time": "2020-04-27T15:45:40.142147Z",
     "start_time": "2020-04-27T15:45:40.136369Z"
    },
    "colab": {},
    "colab_type": "code",
    "id": "oKn8ZbMBfGK2"
   },
   "outputs": [
    {
     "data": {
      "text/plain": [
       "array(['FAKE', 'REAL'], dtype=object)"
      ]
     },
     "execution_count": 79,
     "metadata": {},
     "output_type": "execute_result"
    }
   ],
   "source": [
    "# ⚠️The label order is important for to correctly assign the confusion matrix\n",
    "df_train.label.unique()"
   ]
  },
  {
   "cell_type": "code",
   "execution_count": 80,
   "metadata": {
    "ExecuteTime": {
     "end_time": "2020-04-27T15:45:40.565248Z",
     "start_time": "2020-04-27T15:45:40.550788Z"
    },
    "colab": {},
    "colab_type": "code",
    "id": "-1sFGVMqfGJP"
   },
   "outputs": [
    {
     "data": {
      "text/html": [
       "<div>\n",
       "<style scoped>\n",
       "    .dataframe tbody tr th:only-of-type {\n",
       "        vertical-align: middle;\n",
       "    }\n",
       "\n",
       "    .dataframe tbody tr th {\n",
       "        vertical-align: top;\n",
       "    }\n",
       "\n",
       "    .dataframe thead th {\n",
       "        text-align: right;\n",
       "    }\n",
       "</style>\n",
       "<table border=\"1\" class=\"dataframe\">\n",
       "  <thead>\n",
       "    <tr style=\"text-align: right;\">\n",
       "      <th></th>\n",
       "      <th>FAKE_pred</th>\n",
       "      <th>REAL_pred</th>\n",
       "    </tr>\n",
       "  </thead>\n",
       "  <tbody>\n",
       "    <tr>\n",
       "      <td>FAKE</td>\n",
       "      <td>584</td>\n",
       "      <td>258</td>\n",
       "    </tr>\n",
       "    <tr>\n",
       "      <td>REAL</td>\n",
       "      <td>312</td>\n",
       "      <td>549</td>\n",
       "    </tr>\n",
       "  </tbody>\n",
       "</table>\n",
       "</div>"
      ],
      "text/plain": [
       "      FAKE_pred  REAL_pred\n",
       "FAKE        584        258\n",
       "REAL        312        549"
      ]
     },
     "metadata": {},
     "output_type": "display_data"
    }
   ],
   "source": [
    "# You can make the confusion matrix less confusing by adding labels:\n",
    "df_conf_mat = pd.DataFrame(confusion_matrix(y_valid,y_pred), index=['FAKE','REAL'], columns=['FAKE_pred','REAL_pred'])\n",
    "display(df_conf_mat)"
   ]
  },
  {
   "cell_type": "code",
   "execution_count": 81,
   "metadata": {
    "ExecuteTime": {
     "end_time": "2020-04-27T15:45:42.467378Z",
     "start_time": "2020-04-27T15:45:42.420348Z"
    },
    "colab": {},
    "colab_type": "code",
    "id": "ST0lon3UfGDm"
   },
   "outputs": [
    {
     "name": "stdout",
     "output_type": "stream",
     "text": [
      "              precision    recall  f1-score   support\n",
      "\n",
      "        FAKE       0.65      0.69      0.67       842\n",
      "        REAL       0.68      0.64      0.66       861\n",
      "\n",
      "    accuracy                           0.67      1703\n",
      "   macro avg       0.67      0.67      0.67      1703\n",
      "weighted avg       0.67      0.67      0.67      1703\n",
      "\n"
     ]
    }
   ],
   "source": [
    "print(classification_report(y_valid, y_pred))"
   ]
  },
  {
   "cell_type": "code",
   "execution_count": 82,
   "metadata": {
    "ExecuteTime": {
     "end_time": "2020-04-27T15:45:43.632391Z",
     "start_time": "2020-04-27T15:45:43.624786Z"
    },
    "colab": {},
    "colab_type": "code",
    "id": "ZdhTWyrGfGA2"
   },
   "outputs": [
    {
     "name": "stdout",
     "output_type": "stream",
     "text": [
      "0.6652965355255431\n"
     ]
    }
   ],
   "source": [
    "print(accuracy_score(y_valid, y_pred))"
   ]
  },
  {
   "cell_type": "markdown",
   "metadata": {
    "colab": {},
    "colab_type": "code",
    "id": "OUTIKMd9fF-T"
   },
   "source": [
    "### Train a Naive Bayes Classifier"
   ]
  },
  {
   "cell_type": "code",
   "execution_count": 83,
   "metadata": {
    "ExecuteTime": {
     "end_time": "2020-04-27T15:45:45.082965Z",
     "start_time": "2020-04-27T15:45:45.061029Z"
    },
    "colab": {},
    "colab_type": "code",
    "id": "8l2nvUGefF8P"
   },
   "outputs": [
    {
     "data": {
      "text/plain": [
       "MultinomialNB(alpha=1.0, class_prior=None, fit_prior=True)"
      ]
     },
     "execution_count": 83,
     "metadata": {},
     "output_type": "execute_result"
    }
   ],
   "source": [
    "nb_model = MultinomialNB()\n",
    "\n",
    "nb_model.fit(X_train, y_train)"
   ]
  },
  {
   "cell_type": "markdown",
   "metadata": {
    "colab": {},
    "colab_type": "code",
    "id": "THokvkJCfF49"
   },
   "source": [
    "#### Report the results"
   ]
  },
  {
   "cell_type": "code",
   "execution_count": 84,
   "metadata": {
    "ExecuteTime": {
     "end_time": "2020-04-27T15:45:46.396582Z",
     "start_time": "2020-04-27T15:45:46.379439Z"
    },
    "colab": {},
    "colab_type": "code",
    "id": "ATPlFXRAfF2v"
   },
   "outputs": [
    {
     "name": "stdout",
     "output_type": "stream",
     "text": [
      "[[679 163]\n",
      " [422 439]]\n"
     ]
    }
   ],
   "source": [
    "y_pred = nb_model.predict(X_valid)\n",
    "print(confusion_matrix(y_valid, y_pred))"
   ]
  },
  {
   "cell_type": "code",
   "execution_count": 85,
   "metadata": {
    "ExecuteTime": {
     "end_time": "2020-04-27T15:45:46.659685Z",
     "start_time": "2020-04-27T15:45:46.622498Z"
    },
    "colab": {},
    "colab_type": "code",
    "id": "gCKbXLhhfF0U"
   },
   "outputs": [
    {
     "name": "stdout",
     "output_type": "stream",
     "text": [
      "              precision    recall  f1-score   support\n",
      "\n",
      "        FAKE       0.62      0.81      0.70       842\n",
      "        REAL       0.73      0.51      0.60       861\n",
      "\n",
      "    accuracy                           0.66      1703\n",
      "   macro avg       0.67      0.66      0.65      1703\n",
      "weighted avg       0.67      0.66      0.65      1703\n",
      "\n"
     ]
    }
   ],
   "source": [
    "print(classification_report(y_valid, y_pred))"
   ]
  },
  {
   "cell_type": "code",
   "execution_count": 86,
   "metadata": {
    "ExecuteTime": {
     "end_time": "2020-04-27T15:45:46.836244Z",
     "start_time": "2020-04-27T15:45:46.829617Z"
    },
    "colab": {},
    "colab_type": "code",
    "id": "wTI8mRMnfFyX"
   },
   "outputs": [
    {
     "name": "stdout",
     "output_type": "stream",
     "text": [
      "0.6564885496183206\n"
     ]
    }
   ],
   "source": [
    "print(accuracy_score(y_valid, y_pred))"
   ]
  },
  {
   "cell_type": "markdown",
   "metadata": {
    "colab": {},
    "colab_type": "code",
    "id": "7BsSoDL7fFur"
   },
   "source": [
    "### Train a Support Vector Machine (SVM) Classifier "
   ]
  },
  {
   "cell_type": "code",
   "execution_count": 87,
   "metadata": {
    "ExecuteTime": {
     "end_time": "2020-04-27T15:45:48.638862Z",
     "start_time": "2020-04-27T15:45:48.215561Z"
    },
    "colab": {},
    "colab_type": "code",
    "id": "p54p-UtbfFs0"
   },
   "outputs": [
    {
     "data": {
      "text/plain": [
       "SVC(C=1.0, break_ties=False, cache_size=200, class_weight=None, coef0=0.0,\n",
       "    decision_function_shape='ovr', degree=3, gamma='auto', kernel='rbf',\n",
       "    max_iter=-1, probability=False, random_state=42, shrinking=True, tol=0.001,\n",
       "    verbose=False)"
      ]
     },
     "execution_count": 87,
     "metadata": {},
     "output_type": "execute_result"
    }
   ],
   "source": [
    "svc_model = SVC(gamma='auto', random_state=42)\n",
    "\n",
    "svc_model.fit(X_train,y_train)"
   ]
  },
  {
   "cell_type": "markdown",
   "metadata": {
    "colab": {},
    "colab_type": "code",
    "id": "9sDlPEwKfFqb"
   },
   "source": [
    "#### Report the results"
   ]
  },
  {
   "cell_type": "code",
   "execution_count": 88,
   "metadata": {
    "ExecuteTime": {
     "end_time": "2020-04-27T15:45:49.234080Z",
     "start_time": "2020-04-27T15:45:49.145979Z"
    },
    "colab": {},
    "colab_type": "code",
    "id": "8pe4gAqpfFns"
   },
   "outputs": [
    {
     "name": "stdout",
     "output_type": "stream",
     "text": [
      "[[834   8]\n",
      " [784  77]]\n"
     ]
    }
   ],
   "source": [
    "y_pred = svc_model.predict(X_valid)\n",
    "print(confusion_matrix(y_valid, y_pred))"
   ]
  },
  {
   "cell_type": "code",
   "execution_count": 89,
   "metadata": {
    "ExecuteTime": {
     "end_time": "2020-04-27T15:45:49.536689Z",
     "start_time": "2020-04-27T15:45:49.493523Z"
    },
    "colab": {},
    "colab_type": "code",
    "id": "kTGKZ5JvfFld"
   },
   "outputs": [
    {
     "name": "stdout",
     "output_type": "stream",
     "text": [
      "              precision    recall  f1-score   support\n",
      "\n",
      "        FAKE       0.52      0.99      0.68       842\n",
      "        REAL       0.91      0.09      0.16       861\n",
      "\n",
      "    accuracy                           0.53      1703\n",
      "   macro avg       0.71      0.54      0.42      1703\n",
      "weighted avg       0.71      0.53      0.42      1703\n",
      "\n"
     ]
    }
   ],
   "source": [
    "print(classification_report(y_valid, y_pred))"
   ]
  },
  {
   "cell_type": "code",
   "execution_count": 90,
   "metadata": {
    "ExecuteTime": {
     "end_time": "2020-04-27T15:45:50.802537Z",
     "start_time": "2020-04-27T15:45:50.795970Z"
    },
    "colab": {},
    "colab_type": "code",
    "id": "8gOxSzT6fFkE"
   },
   "outputs": [
    {
     "name": "stdout",
     "output_type": "stream",
     "text": [
      "0.5349383440986495\n"
     ]
    }
   ],
   "source": [
    "print(accuracy_score(y_valid, y_pred))"
   ]
  },
  {
   "cell_type": "markdown",
   "metadata": {
    "colab": {},
    "colab_type": "code",
    "id": "GL8Wm7ctfFii"
   },
   "source": [
    "## Feature Extraction from text"
   ]
  },
  {
   "cell_type": "markdown",
   "metadata": {},
   "source": [
    "### Split the data into train & valid sets"
   ]
  },
  {
   "cell_type": "code",
   "execution_count": 132,
   "metadata": {
    "ExecuteTime": {
     "end_time": "2020-04-27T17:56:28.982144Z",
     "start_time": "2020-04-27T17:56:28.975150Z"
    },
    "colab": {},
    "colab_type": "code",
    "id": "UEG4XpBhfFdw"
   },
   "outputs": [],
   "source": [
    "X = df_train.text\n",
    "y = df_train.label"
   ]
  },
  {
   "cell_type": "code",
   "execution_count": 133,
   "metadata": {
    "ExecuteTime": {
     "end_time": "2020-04-27T17:56:29.844086Z",
     "start_time": "2020-04-27T17:56:29.835305Z"
    },
    "colab": {},
    "colab_type": "code",
    "id": "hpVlPcOQfFbW"
   },
   "outputs": [],
   "source": [
    "X_train, X_valid, y_train, y_valid = train_test_split(X, y, test_size=0.3, random_state=42)"
   ]
  },
  {
   "cell_type": "code",
   "execution_count": 134,
   "metadata": {
    "ExecuteTime": {
     "end_time": "2020-04-27T17:56:30.414418Z",
     "start_time": "2020-04-27T17:56:30.410458Z"
    }
   },
   "outputs": [
    {
     "name": "stdout",
     "output_type": "stream",
     "text": [
      "Training Data Shape: (3971,)\n",
      "Testing Data Shape: (1703,)\n"
     ]
    }
   ],
   "source": [
    "print(f'Training Data Shape: {X_train.shape}')\n",
    "print(f'Testing Data Shape: {X_valid.shape}')"
   ]
  },
  {
   "cell_type": "markdown",
   "metadata": {},
   "source": [
    "### Train a Logistic Regression Classifier"
   ]
  },
  {
   "cell_type": "code",
   "execution_count": 135,
   "metadata": {
    "ExecuteTime": {
     "end_time": "2020-04-27T17:56:32.161054Z",
     "start_time": "2020-04-27T17:56:32.151501Z"
    }
   },
   "outputs": [],
   "source": [
    "tf = CountVectorizer()"
   ]
  },
  {
   "cell_type": "code",
   "execution_count": 136,
   "metadata": {
    "ExecuteTime": {
     "end_time": "2020-04-27T17:56:35.646982Z",
     "start_time": "2020-04-27T17:56:32.678824Z"
    }
   },
   "outputs": [],
   "source": [
    "X_train_tf = tf.fit_transform(X_train)\n",
    "X_valid_tf = tf.transform(X_valid)"
   ]
  },
  {
   "cell_type": "code",
   "execution_count": 137,
   "metadata": {
    "ExecuteTime": {
     "end_time": "2020-04-27T17:56:35.654870Z",
     "start_time": "2020-04-27T17:56:35.649335Z"
    }
   },
   "outputs": [],
   "source": [
    "lr = LogisticRegression(solver='lbfgs', random_state=42, max_iter=100000)"
   ]
  },
  {
   "cell_type": "code",
   "execution_count": 138,
   "metadata": {
    "ExecuteTime": {
     "end_time": "2020-04-27T17:56:39.392181Z",
     "start_time": "2020-04-27T17:56:35.660183Z"
    }
   },
   "outputs": [
    {
     "data": {
      "text/plain": [
       "LogisticRegression(C=1.0, class_weight=None, dual=False, fit_intercept=True,\n",
       "                   intercept_scaling=1, l1_ratio=None, max_iter=100000,\n",
       "                   multi_class='auto', n_jobs=None, penalty='l2',\n",
       "                   random_state=42, solver='lbfgs', tol=0.0001, verbose=0,\n",
       "                   warm_start=False)"
      ]
     },
     "execution_count": 138,
     "metadata": {},
     "output_type": "execute_result"
    }
   ],
   "source": [
    "lr.fit(X_train_tf, y_train)"
   ]
  },
  {
   "cell_type": "code",
   "execution_count": 139,
   "metadata": {
    "ExecuteTime": {
     "end_time": "2020-04-27T17:56:40.092725Z",
     "start_time": "2020-04-27T17:56:40.081414Z"
    }
   },
   "outputs": [
    {
     "data": {
      "text/plain": [
       "0.9166177334116266"
      ]
     },
     "execution_count": 139,
     "metadata": {},
     "output_type": "execute_result"
    }
   ],
   "source": [
    "lr.score(X_valid_tf, y_valid)"
   ]
  },
  {
   "cell_type": "code",
   "execution_count": 140,
   "metadata": {
    "ExecuteTime": {
     "end_time": "2020-04-27T17:56:44.619790Z",
     "start_time": "2020-04-27T17:56:41.192199Z"
    }
   },
   "outputs": [],
   "source": [
    "tfidf = TfidfVectorizer()\n",
    "\n",
    "X_train_tfidf = tfidf.fit_transform(X_train) \n",
    "X_valid_tfidf = tfidf.transform(X_valid)"
   ]
  },
  {
   "cell_type": "code",
   "execution_count": 141,
   "metadata": {
    "ExecuteTime": {
     "end_time": "2020-04-27T17:56:44.627302Z",
     "start_time": "2020-04-27T17:56:44.621993Z"
    }
   },
   "outputs": [
    {
     "data": {
      "text/plain": [
       "(3971, 55640)"
      ]
     },
     "execution_count": 141,
     "metadata": {},
     "output_type": "execute_result"
    }
   ],
   "source": [
    "X_train_tfidf.shape"
   ]
  },
  {
   "cell_type": "code",
   "execution_count": 142,
   "metadata": {
    "ExecuteTime": {
     "end_time": "2020-04-27T17:56:44.654635Z",
     "start_time": "2020-04-27T17:56:44.630678Z"
    }
   },
   "outputs": [
    {
     "name": "stdout",
     "output_type": "stream",
     "text": [
      "  (0, 19257)\t0.01283726062007641\n",
      "  (0, 3814)\t0.024468805913925976\n",
      "  (0, 35504)\t0.010673110772236483\n",
      "  (0, 38146)\t0.018260946895869618\n",
      "  (0, 7755)\t0.03425712453165526\n",
      "  (0, 40644)\t0.03802452328501216\n",
      "  (0, 50407)\t0.05986719337460776\n",
      "  (0, 47515)\t0.05348407327162572\n",
      "  (0, 45737)\t0.05986719337460776\n",
      "  (0, 49789)\t0.007249029839134223\n",
      "  (0, 46536)\t0.05221397377820609\n",
      "  (0, 20738)\t0.05986719337460776\n",
      "  (0, 13836)\t0.039928355900539544\n",
      "  (0, 4283)\t0.05348407327162572\n",
      "  (0, 30004)\t0.05114011995750755\n",
      "  (0, 54575)\t0.05274527705890672\n",
      "  (0, 33166)\t0.035615967399534224\n",
      "  (0, 50128)\t0.02891852658209403\n",
      "  (0, 1981)\t0.05986719337460776\n",
      "  (0, 52817)\t0.05986719337460776\n",
      "  (0, 12904)\t0.036779709702064865\n",
      "  (0, 97)\t0.018068399795407756\n",
      "  (0, 26562)\t0.05986719337460776\n",
      "  (0, 3411)\t0.04583085367522404\n",
      "  (0, 50135)\t0.07871092773969554\n",
      "  :\t:\n",
      "  (3970, 11415)\t0.04316599946596808\n",
      "  (3970, 44177)\t0.01715245670548522\n",
      "  (3970, 19257)\t0.019080040419165174\n",
      "  (3970, 35504)\t0.015863461135471376\n",
      "  (3970, 38146)\t0.027141273763697044\n",
      "  (3970, 49789)\t0.19393639777429855\n",
      "  (3970, 35268)\t0.03735649121586715\n",
      "  (3970, 34463)\t0.017730817070076406\n",
      "  (3970, 13209)\t0.03404474987218312\n",
      "  (3970, 19926)\t0.013779224476195248\n",
      "  (3970, 35088)\t0.08585385333978157\n",
      "  (3970, 33864)\t0.05054956655804464\n",
      "  (3970, 24990)\t0.012104445654021656\n",
      "  (3970, 34889)\t0.1147665920740408\n",
      "  (3970, 22723)\t0.006586977910042944\n",
      "  (3970, 611)\t0.02054773787442772\n",
      "  (3970, 608)\t0.01763534812074389\n",
      "  (3970, 24883)\t0.1541842521641279\n",
      "  (3970, 3380)\t0.130798570547517\n",
      "  (3970, 3311)\t0.06004370764680223\n",
      "  (3970, 26241)\t0.052155525228218154\n",
      "  (3970, 8220)\t0.012501448676005857\n",
      "  (3970, 49254)\t0.3897120143828385\n",
      "  (3970, 4039)\t0.05185555129901826\n",
      "  (3970, 53557)\t0.022419986491173077\n"
     ]
    }
   ],
   "source": [
    "# 1st text X_train, word ID, tfidf score\n",
    "print(X_train_tfidf)"
   ]
  },
  {
   "cell_type": "code",
   "execution_count": 143,
   "metadata": {
    "ExecuteTime": {
     "end_time": "2020-04-27T17:56:46.267716Z",
     "start_time": "2020-04-27T17:56:44.893406Z"
    }
   },
   "outputs": [],
   "source": [
    "tfidf_df = pd.DataFrame(X_train_tfidf.toarray(), columns=tfidf.get_feature_names())"
   ]
  },
  {
   "cell_type": "code",
   "execution_count": 144,
   "metadata": {
    "ExecuteTime": {
     "end_time": "2020-04-27T17:56:46.304300Z",
     "start_time": "2020-04-27T17:56:46.269918Z"
    }
   },
   "outputs": [
    {
     "data": {
      "text/html": [
       "<div>\n",
       "<style scoped>\n",
       "    .dataframe tbody tr th:only-of-type {\n",
       "        vertical-align: middle;\n",
       "    }\n",
       "\n",
       "    .dataframe tbody tr th {\n",
       "        vertical-align: top;\n",
       "    }\n",
       "\n",
       "    .dataframe thead th {\n",
       "        text-align: right;\n",
       "    }\n",
       "</style>\n",
       "<table border=\"1\" class=\"dataframe\">\n",
       "  <thead>\n",
       "    <tr style=\"text-align: right;\">\n",
       "      <th></th>\n",
       "      <th>00</th>\n",
       "      <th>000</th>\n",
       "      <th>000000031</th>\n",
       "      <th>00000031</th>\n",
       "      <th>000035</th>\n",
       "      <th>00006</th>\n",
       "      <th>0001</th>\n",
       "      <th>0001pt</th>\n",
       "      <th>000billion</th>\n",
       "      <th>000ft</th>\n",
       "      <th>...</th>\n",
       "      <th>שתי</th>\n",
       "      <th>תאמצנה</th>\n",
       "      <th>תוצאה</th>\n",
       "      <th>תחל</th>\n",
       "      <th>תיירות</th>\n",
       "      <th>תנותק</th>\n",
       "      <th>תעודת</th>\n",
       "      <th>תתרכז</th>\n",
       "      <th>القادمون</th>\n",
       "      <th>عربي</th>\n",
       "    </tr>\n",
       "  </thead>\n",
       "  <tbody>\n",
       "    <tr>\n",
       "      <td>0</td>\n",
       "      <td>0.0</td>\n",
       "      <td>0.0</td>\n",
       "      <td>0.0</td>\n",
       "      <td>0.0</td>\n",
       "      <td>0.0</td>\n",
       "      <td>0.0</td>\n",
       "      <td>0.0</td>\n",
       "      <td>0.0</td>\n",
       "      <td>0.0</td>\n",
       "      <td>0.0</td>\n",
       "      <td>...</td>\n",
       "      <td>0.0</td>\n",
       "      <td>0.0</td>\n",
       "      <td>0.0</td>\n",
       "      <td>0.0</td>\n",
       "      <td>0.0</td>\n",
       "      <td>0.0</td>\n",
       "      <td>0.0</td>\n",
       "      <td>0.0</td>\n",
       "      <td>0.0</td>\n",
       "      <td>0.0</td>\n",
       "    </tr>\n",
       "    <tr>\n",
       "      <td>1</td>\n",
       "      <td>0.0</td>\n",
       "      <td>0.0</td>\n",
       "      <td>0.0</td>\n",
       "      <td>0.0</td>\n",
       "      <td>0.0</td>\n",
       "      <td>0.0</td>\n",
       "      <td>0.0</td>\n",
       "      <td>0.0</td>\n",
       "      <td>0.0</td>\n",
       "      <td>0.0</td>\n",
       "      <td>...</td>\n",
       "      <td>0.0</td>\n",
       "      <td>0.0</td>\n",
       "      <td>0.0</td>\n",
       "      <td>0.0</td>\n",
       "      <td>0.0</td>\n",
       "      <td>0.0</td>\n",
       "      <td>0.0</td>\n",
       "      <td>0.0</td>\n",
       "      <td>0.0</td>\n",
       "      <td>0.0</td>\n",
       "    </tr>\n",
       "    <tr>\n",
       "      <td>2</td>\n",
       "      <td>0.0</td>\n",
       "      <td>0.0</td>\n",
       "      <td>0.0</td>\n",
       "      <td>0.0</td>\n",
       "      <td>0.0</td>\n",
       "      <td>0.0</td>\n",
       "      <td>0.0</td>\n",
       "      <td>0.0</td>\n",
       "      <td>0.0</td>\n",
       "      <td>0.0</td>\n",
       "      <td>...</td>\n",
       "      <td>0.0</td>\n",
       "      <td>0.0</td>\n",
       "      <td>0.0</td>\n",
       "      <td>0.0</td>\n",
       "      <td>0.0</td>\n",
       "      <td>0.0</td>\n",
       "      <td>0.0</td>\n",
       "      <td>0.0</td>\n",
       "      <td>0.0</td>\n",
       "      <td>0.0</td>\n",
       "    </tr>\n",
       "    <tr>\n",
       "      <td>3</td>\n",
       "      <td>0.0</td>\n",
       "      <td>0.0</td>\n",
       "      <td>0.0</td>\n",
       "      <td>0.0</td>\n",
       "      <td>0.0</td>\n",
       "      <td>0.0</td>\n",
       "      <td>0.0</td>\n",
       "      <td>0.0</td>\n",
       "      <td>0.0</td>\n",
       "      <td>0.0</td>\n",
       "      <td>...</td>\n",
       "      <td>0.0</td>\n",
       "      <td>0.0</td>\n",
       "      <td>0.0</td>\n",
       "      <td>0.0</td>\n",
       "      <td>0.0</td>\n",
       "      <td>0.0</td>\n",
       "      <td>0.0</td>\n",
       "      <td>0.0</td>\n",
       "      <td>0.0</td>\n",
       "      <td>0.0</td>\n",
       "    </tr>\n",
       "    <tr>\n",
       "      <td>4</td>\n",
       "      <td>0.0</td>\n",
       "      <td>0.0</td>\n",
       "      <td>0.0</td>\n",
       "      <td>0.0</td>\n",
       "      <td>0.0</td>\n",
       "      <td>0.0</td>\n",
       "      <td>0.0</td>\n",
       "      <td>0.0</td>\n",
       "      <td>0.0</td>\n",
       "      <td>0.0</td>\n",
       "      <td>...</td>\n",
       "      <td>0.0</td>\n",
       "      <td>0.0</td>\n",
       "      <td>0.0</td>\n",
       "      <td>0.0</td>\n",
       "      <td>0.0</td>\n",
       "      <td>0.0</td>\n",
       "      <td>0.0</td>\n",
       "      <td>0.0</td>\n",
       "      <td>0.0</td>\n",
       "      <td>0.0</td>\n",
       "    </tr>\n",
       "  </tbody>\n",
       "</table>\n",
       "<p>5 rows × 55640 columns</p>\n",
       "</div>"
      ],
      "text/plain": [
       "    00  000  000000031  00000031  000035  00006  0001  0001pt  000billion  \\\n",
       "0  0.0  0.0        0.0       0.0     0.0    0.0   0.0     0.0         0.0   \n",
       "1  0.0  0.0        0.0       0.0     0.0    0.0   0.0     0.0         0.0   \n",
       "2  0.0  0.0        0.0       0.0     0.0    0.0   0.0     0.0         0.0   \n",
       "3  0.0  0.0        0.0       0.0     0.0    0.0   0.0     0.0         0.0   \n",
       "4  0.0  0.0        0.0       0.0     0.0    0.0   0.0     0.0         0.0   \n",
       "\n",
       "   000ft  ...  שתי  תאמצנה  תוצאה  תחל  תיירות  תנותק  תעודת  תתרכז  القادمون  \\\n",
       "0    0.0  ...  0.0     0.0    0.0  0.0     0.0    0.0    0.0    0.0       0.0   \n",
       "1    0.0  ...  0.0     0.0    0.0  0.0     0.0    0.0    0.0    0.0       0.0   \n",
       "2    0.0  ...  0.0     0.0    0.0  0.0     0.0    0.0    0.0    0.0       0.0   \n",
       "3    0.0  ...  0.0     0.0    0.0  0.0     0.0    0.0    0.0    0.0       0.0   \n",
       "4    0.0  ...  0.0     0.0    0.0  0.0     0.0    0.0    0.0    0.0       0.0   \n",
       "\n",
       "   عربي  \n",
       "0   0.0  \n",
       "1   0.0  \n",
       "2   0.0  \n",
       "3   0.0  \n",
       "4   0.0  \n",
       "\n",
       "[5 rows x 55640 columns]"
      ]
     },
     "execution_count": 144,
     "metadata": {},
     "output_type": "execute_result"
    }
   ],
   "source": [
    "tfidf_df.head()"
   ]
  },
  {
   "cell_type": "code",
   "execution_count": 145,
   "metadata": {
    "ExecuteTime": {
     "end_time": "2020-04-27T17:56:47.777011Z",
     "start_time": "2020-04-27T17:56:47.753945Z"
    }
   },
   "outputs": [
    {
     "data": {
      "text/plain": [
       "{'we': 53557,\n",
       " 'are': 4039,\n",
       " 'change': 9335,\n",
       " 'the': 49254,\n",
       " 'debut': 13255,\n",
       " 'album': 2829,\n",
       " 'by': 8220,\n",
       " 'cahill': 8313,\n",
       " 'vs': 53143,\n",
       " 'kalma': 27257,\n",
       " 'is': 26241,\n",
       " 'an': 3311,\n",
       " 'extremely': 18247,\n",
       " 'ambitious': 3167,\n",
       " 'experimental': 18082,\n",
       " 'and': 3380,\n",
       " 'emotionally': 16804,\n",
       " 'powerful': 38244,\n",
       " 'recorded': 40641,\n",
       " 'in': 24883,\n",
       " 'nyc': 34622,\n",
       " 'between': 6278,\n",
       " '2013': 608,\n",
       " 'thru': 49543,\n",
       " '2016': 611,\n",
       " 'has': 22723,\n",
       " 'wide': 53987,\n",
       " 'array': 4200,\n",
       " 'of': 34889,\n",
       " 'musical': 33167,\n",
       " 'styles': 47570,\n",
       " 'including': 24990,\n",
       " 'pop': 38022,\n",
       " 'hard': 22600,\n",
       " 'rock': 42378,\n",
       " 'gypsy': 22223,\n",
       " 'jazz': 26625,\n",
       " 'new': 33864,\n",
       " 'wave': 53516,\n",
       " 'more': 32694,\n",
       " 'concept': 11033,\n",
       " 'story': 47295,\n",
       " 'focuses': 19615,\n",
       " 'on': 35088,\n",
       " 'dualism': 15863,\n",
       " 'found': 19926,\n",
       " 'nature': 33537,\n",
       " 'world': 54435,\n",
       " 'life': 29181,\n",
       " 'death': 13209,\n",
       " 'robots': 42367,\n",
       " 'humans': 24134,\n",
       " 'analog': 3323,\n",
       " 'digital': 14509,\n",
       " 'acoustic': 2070,\n",
       " 'electric': 16530,\n",
       " 'now': 34463,\n",
       " 'available': 4877,\n",
       " 'cd': 9057,\n",
       " 'itunes': 26380,\n",
       " 'google': 21481,\n",
       " 'play': 37607,\n",
       " 'amazon': 3151,\n",
       " 'purchase': 39449,\n",
       " 'physical': 37240,\n",
       " 'using': 52229,\n",
       " 'your': 54902,\n",
       " 'credit': 12269,\n",
       " 'card': 8657,\n",
       " 'or': 35268,\n",
       " 'paypal': 36598,\n",
       " 'produced': 38847,\n",
       " 'dave': 13087,\n",
       " 'brian': 7583,\n",
       " 'herman': 23241,\n",
       " 'engineered': 17044,\n",
       " 'mixed': 32314,\n",
       " 'mastered': 30878,\n",
       " 'vocals': 53035,\n",
       " 'guitar': 22104,\n",
       " 'bass': 5657,\n",
       " 'synth': 48407,\n",
       " 'noise': 34180,\n",
       " 'drums': 15837,\n",
       " 'alex': 2865,\n",
       " 'radus': 39911,\n",
       " 'backing': 5124,\n",
       " 'tracks': 50135,\n",
       " 'andy': 3411,\n",
       " 'janowiak': 26562,\n",
       " '10': 97,\n",
       " 'dallas': 12904,\n",
       " 'vietty': 52817,\n",
       " 'accordion': 1981,\n",
       " 'track': 50128,\n",
       " 'music': 33166,\n",
       " 'written': 54575,\n",
       " 'lyrics': 30004,\n",
       " 'artwork': 4283,\n",
       " 'dennis': 13836,\n",
       " 'gatz': 20738,\n",
       " 'sporadically': 46536,\n",
       " 'to': 49789,\n",
       " 'smt': 45737,\n",
       " 'studios': 47515,\n",
       " 'treefort': 50407,\n",
       " 'recording': 40644,\n",
       " 'brooklyn': 7755,\n",
       " 'post': 38146,\n",
       " 'out': 35504,\n",
       " 'appeared': 3814,\n",
       " 'first': 19257,\n",
       " 'gordon': 21502,\n",
       " 'duff': 15910,\n",
       " 'senior': 44177,\n",
       " 'editor': 16311,\n",
       " 'october': 34852,\n",
       " '30': 825,\n",
       " 'constitutional': 11415,\n",
       " 'crisis': 12358,\n",
       " 'fbi': 18739,\n",
       " 'used': 52210,\n",
       " 'prohibited': 38932,\n",
       " 'fisa': 19264,\n",
       " 'domestic': 15418,\n",
       " 'terror': 49132,\n",
       " 'warrant': 53409,\n",
       " 'clinton': 10190,\n",
       " 'weiner': 53689,\n",
       " 'email': 16674,\n",
       " 'search': 43922,\n",
       " 'with': 54228,\n",
       " 'ian': 24361,\n",
       " 'greenhalgh': 21782,\n",
       " 'editors': 16316,\n",
       " 'veterans': 52722,\n",
       " 'today': 49807,\n",
       " 'surprise': 48076,\n",
       " 'announcement': 3525,\n",
       " 'department': 13889,\n",
       " 'justice': 27146,\n",
       " 'just': 27144,\n",
       " 'admitted': 2291,\n",
       " 'that': 49245,\n",
       " 'there': 49341,\n",
       " 'was': 53431,\n",
       " 'no': 34143,\n",
       " 'legal': 28832,\n",
       " 'authorization': 4825,\n",
       " 'place': 37515,\n",
       " 'access': 1933,\n",
       " 'accounts': 1990,\n",
       " 'hillary': 23417,\n",
       " 'aide': 2656,\n",
       " 'huma': 24117,\n",
       " 'abedin': 1733,\n",
       " 'estranged': 17572,\n",
       " 'wife': 54012,\n",
       " 'accused': 2012,\n",
       " 'sex': 44385,\n",
       " 'offender': 34901,\n",
       " 'former': 19862,\n",
       " 'congressman': 11251,\n",
       " 'anthony': 3604,\n",
       " 'government': 21557,\n",
       " 'had': 22280,\n",
       " 'been': 5888,\n",
       " 'requested': 41534,\n",
       " 'discussions': 14817,\n",
       " 'seek': 44033,\n",
       " 'not': 34394,\n",
       " 'yet': 54829,\n",
       " 'begun': 5942,\n",
       " 'making': 30302,\n",
       " 'letter': 29012,\n",
       " 'director': 14642,\n",
       " 'james': 26530,\n",
       " 'comey': 10705,\n",
       " 'wrote': 54589,\n",
       " 'congress': 11248,\n",
       " 'friday': 20182,\n",
       " 'potentially': 38203,\n",
       " 'criminal': 12331,\n",
       " 'act': 2103,\n",
       " 'if': 24477,\n",
       " 'it': 26340,\n",
       " 'can': 8460,\n",
       " 'be': 5765,\n",
       " 'proven': 39175,\n",
       " 'aware': 4948,\n",
       " 'this': 49440,\n",
       " 'fact': 18362,\n",
       " 'actions': 2110,\n",
       " 'his': 23515,\n",
       " 'subordinates': 47639,\n",
       " 'planting': 37567,\n",
       " 'emails': 16679,\n",
       " 'laptop': 28473,\n",
       " '14': 234,\n",
       " 'cnn': 10331,\n",
       " 'officials': 34928,\n",
       " 'working': 54420,\n",
       " 'secure': 43999,\n",
       " 'approval': 3911,\n",
       " 'would': 54481,\n",
       " 'allow': 2999,\n",
       " 'conduct': 11119,\n",
       " 'full': 20362,\n",
       " 'top': 49933,\n",
       " 'newly': 33881,\n",
       " 'discovered': 14786,\n",
       " 'sources': 46176,\n",
       " 'familiar': 18512,\n",
       " 'told': 49842,\n",
       " 'lawyers': 28658,\n",
       " 'haven': 22818,\n",
       " 'approached': 3901,\n",
       " 'agreement': 2607,\n",
       " 'earlier': 16139,\n",
       " 'those': 49472,\n",
       " 'but': 8162,\n",
       " 'law': 28630,\n",
       " 'enforcement': 17022,\n",
       " 'say': 43439,\n",
       " 'they': 49381,\n",
       " 'have': 22816,\n",
       " 'under': 51309,\n",
       " 'assault': 4424,\n",
       " 'for': 19724,\n",
       " 'what': 53820,\n",
       " 'being': 5979,\n",
       " 'perceived': 36808,\n",
       " 'as': 4297,\n",
       " 'than': 49231,\n",
       " 'simply': 45208,\n",
       " 'partisan': 36356,\n",
       " 'behavior': 5951,\n",
       " 'presidential': 38575,\n",
       " 'advisor': 2389,\n",
       " 'lanny': 28446,\n",
       " 'davis': 13105,\n",
       " 'writes': 54570,\n",
       " 'hill': 23415,\n",
       " 'investigative': 26071,\n",
       " 'agency': 2542,\n",
       " 'prosecution': 39091,\n",
       " 'does': 15360,\n",
       " 'any': 3709,\n",
       " 'authority': 4823,\n",
       " 'send': 44166,\n",
       " 'report': 41451,\n",
       " 'middle': 31799,\n",
       " 'investigation': 26068,\n",
       " 'about': 1810,\n",
       " 'past': 36423,\n",
       " 'present': 38549,\n",
       " 'subject': 47608,\n",
       " 'he': 22888,\n",
       " 'appears': 3816,\n",
       " 'violation': 52908,\n",
       " 'limits': 29285,\n",
       " 'disclosing': 14753,\n",
       " 'information': 25357,\n",
       " 'possible': 38143,\n",
       " 'directly': 14640,\n",
       " 'obtaining': 34795,\n",
       " 'permission': 36913,\n",
       " 'from': 20239,\n",
       " 'attorney': 4695,\n",
       " 'general': 20840,\n",
       " 'someone': 46049,\n",
       " 'else': 16651,\n",
       " 'delegated': 13616,\n",
       " 'her': 23202,\n",
       " 'decision': 13322,\n",
       " 'reveal': 41892,\n",
       " 'results': 41762,\n",
       " 'ongoing': 35109,\n",
       " 'before': 5907,\n",
       " 'published': 39316,\n",
       " 'indictment': 25135,\n",
       " 'violates': 52906,\n",
       " 'due': 15904,\n",
       " 'process': 38813,\n",
       " 'principles': 38726,\n",
       " 'pre': 38335,\n",
       " 'secrecy': 43972,\n",
       " 'rules': 42789,\n",
       " 'guidelines': 22083,\n",
       " '16': 293,\n",
       " 'through': 49531,\n",
       " 'court': 12072,\n",
       " 'challenges': 9303,\n",
       " 'tactics': 48496,\n",
       " 'other': 35463,\n",
       " 'counter': 11992,\n",
       " 'legislation': 28862,\n",
       " 'accessing': 1937,\n",
       " 'cloud': 10265,\n",
       " 'based': 5613,\n",
       " 'either': 16460,\n",
       " 'representing': 41476,\n",
       " 'them': 49294,\n",
       " 'warranted': 53410,\n",
       " 'drive': 15776,\n",
       " 'syncing': 48390,\n",
       " 'computer': 11000,\n",
       " 'clear': 10100,\n",
       " 'prohibitions': 38935,\n",
       " 'established': 17541,\n",
       " 'addendum': 2174,\n",
       " 'case': 8834,\n",
       " 'at': 4572,\n",
       " 'all': 2944,\n",
       " 'interpretations': 25883,\n",
       " 'could': 11966,\n",
       " 'consistent': 11365,\n",
       " 'admissibility': 2284,\n",
       " 'seen': 44046,\n",
       " 'most': 32784,\n",
       " 'long': 29626,\n",
       " 'expected': 18047,\n",
       " 'highly': 23387,\n",
       " 'controversial': 11619,\n",
       " 'comer': 10699,\n",
       " 'something': 46054,\n",
       " 'far': 18559,\n",
       " 'reaching': 40299,\n",
       " 'developed': 14283,\n",
       " 'may': 31029,\n",
       " 'well': 53724,\n",
       " 'exceed': 17850,\n",
       " 'watergate': 53492,\n",
       " 'even': 17712,\n",
       " 'iran': 26150,\n",
       " 'contra': 11561,\n",
       " 'like': 29238,\n",
       " 'federal': 18796,\n",
       " 'reserve': 41590,\n",
       " 'itself': 26377,\n",
       " 'lacks': 28279,\n",
       " 'mention': 31503,\n",
       " 'nor': 34311,\n",
       " 'given': 21177,\n",
       " 'constitution': 11414,\n",
       " 'national': 33499,\n",
       " 'police': 37871,\n",
       " 'force': 19734,\n",
       " '10th': 148,\n",
       " 'amendment': 3194,\n",
       " 'ratified': 40201,\n",
       " '1791': 348,\n",
       " 'states': 46920,\n",
       " 'powers': 38253,\n",
       " 'united': 51676,\n",
       " 'reserved': 41591,\n",
       " 'respectively': 41686,\n",
       " 'people': 36791,\n",
       " '12': 180,\n",
       " 'often': 34947,\n",
       " 'ignored': 24506,\n",
       " 'stepchild': 47073,\n",
       " 'bill': 6416,\n",
       " 'rights': 42161,\n",
       " 'here': 23221,\n",
       " 'however': 24016,\n",
       " 'created': 12245,\n",
       " 'initially': 25453,\n",
       " '11': 152,\n",
       " 'enforce': 17019,\n",
       " 'mann': 30494,\n",
       " '13': 211,\n",
       " 'assumed': 4502,\n",
       " 'only': 35118,\n",
       " 'granted': 21686,\n",
       " 'exponentially': 18139,\n",
       " 'expanded': 18025,\n",
       " 'its': 26376,\n",
       " 'reach': 40295,\n",
       " 'beyond': 6303,\n",
       " 'limitations': 29281,\n",
       " 'privacy': 38761,\n",
       " 'against': 2528,\n",
       " 'unreasonable': 51853,\n",
       " 'seizure': 44086,\n",
       " 'assailed': 4412,\n",
       " 'laws': 28651,\n",
       " 'patriot': 36508,\n",
       " 'acts': 2129,\n",
       " 'behind': 5965,\n",
       " 'current': 12704,\n",
       " 'controversy': 11622,\n",
       " 'interfering': 25824,\n",
       " 'election': 16515,\n",
       " 'acting': 2105,\n",
       " 'policy': 37884,\n",
       " 'procedure': 38806,\n",
       " 'advice': 2380,\n",
       " 'crossed': 12437,\n",
       " 'into': 25959,\n",
       " 'area': 4040,\n",
       " 'criminality': 12332,\n",
       " 'violating': 52907,\n",
       " 'cut': 12758,\n",
       " 'restrictions': 41747,\n",
       " 'illegal': 24540,\n",
       " 'actually': 2136,\n",
       " 'evidence': 17757,\n",
       " 'then': 49303,\n",
       " 'channeling': 9350,\n",
       " 'misleading': 32194,\n",
       " 'press': 38582,\n",
       " 'intent': 25762,\n",
       " 'subvert': 47721,\n",
       " 'another': 3564,\n",
       " 'issue': 26329,\n",
       " 'kind': 27753,\n",
       " 'language': 28433,\n",
       " 'mollify': 32485,\n",
       " 'critics': 12391,\n",
       " 'who': 53944,\n",
       " 'kept': 27526,\n",
       " 'flurry': 19583,\n",
       " 'investigations': 26070,\n",
       " 'going': 21412,\n",
       " 'subjected': 47609,\n",
       " 'him': 23453,\n",
       " 'hostile': 23950,\n",
       " 'interrogation': 25893,\n",
       " 'endless': 16962,\n",
       " 'hours': 23986,\n",
       " 'front': 20246,\n",
       " 'committees': 10797,\n",
       " 'colonel': 10603,\n",
       " 'jim': 26805,\n",
       " 'hanke': 22534,\n",
       " 'ret': 41781,\n",
       " 'us': 52179,\n",
       " 'attache': 4641,\n",
       " 'israel': 26315,\n",
       " 'ranking': 40103,\n",
       " 'nato': 33525,\n",
       " 'military': 31899,\n",
       " 'intelligence': 25739,\n",
       " 'planner': 37556,\n",
       " 'commented': 10766,\n",
       " 'assertions': 4447,\n",
       " 'classified': 10055,\n",
       " 'take': 48544,\n",
       " 'text': 49199,\n",
       " 'anything': 3716,\n",
       " 'said': 43040,\n",
       " 'conference': 11135,\n",
       " 'television': 48973,\n",
       " 'interview': 25932,\n",
       " 'formats': 19859,\n",
       " 'considered': 11355,\n",
       " 'fallout': 18482,\n",
       " 'sure': 48038,\n",
       " 'endangering': 16942,\n",
       " 'operations': 35181,\n",
       " 'real': 40341,\n",
       " 'issues': 26332,\n",
       " 'get': 20996,\n",
       " 'high': 23377,\n",
       " 'level': 29027,\n",
       " 'classification': 10053,\n",
       " 'were': 53753,\n",
       " 'made': 30113,\n",
       " 'public': 39302,\n",
       " 'reason': 40414,\n",
       " 'expect': 18041,\n",
       " 'might': 31830,\n",
       " 'happen': 22559,\n",
       " 'revealing': 41895,\n",
       " 'reflect': 40867,\n",
       " 'personal': 36972,\n",
       " 'judgement': 27047,\n",
       " 'times': 49687,\n",
       " 'demonstrate': 13778,\n",
       " 'lack': 28271,\n",
       " 'grasp': 21708,\n",
       " 'particularly': 36349,\n",
       " 'when': 53841,\n",
       " 'comes': 10700,\n",
       " 'russia': 42857,\n",
       " 'syria': 48418,\n",
       " 'these': 49366,\n",
       " 'confidence': 11154,\n",
       " 'areas': 4041,\n",
       " 'security': 44008,\n",
       " 'conversely': 11648,\n",
       " 'do': 15304,\n",
       " 'rise': 42222,\n",
       " 'serious': 44280,\n",
       " 'certainly': 9209,\n",
       " 'undermines': 51364,\n",
       " 'attacks': 4653,\n",
       " 'american': 3205,\n",
       " 'system': 48427,\n",
       " 'apply': 3862,\n",
       " 'my': 33238,\n",
       " 'expertise': 18089,\n",
       " 'think': 49412,\n",
       " 'code': 10420,\n",
       " 'deal': 13184,\n",
       " 'threat': 49494,\n",
       " 'one': 35100,\n",
       " 'additional': 2184,\n",
       " 'consideration': 11353,\n",
       " 'put': 39518,\n",
       " 'mix': 32313,\n",
       " 'wikileaks': 54027,\n",
       " 'during': 16017,\n",
       " 'recent': 40528,\n",
       " 'weeks': 53658,\n",
       " 'while': 53863,\n",
       " 'released': 41173,\n",
       " 'two': 50951,\n",
       " 'dozen': 15645,\n",
       " 'batches': 5675,\n",
       " 'campaign': 8438,\n",
       " 'mirrored': 32094,\n",
       " 'charges': 9403,\n",
       " 'zbigniew': 55063,\n",
       " 'brzezinsky': 7843,\n",
       " 'sexes': 44386,\n",
       " 'up': 52055,\n",
       " 'fabricates': 18312,\n",
       " 'documents': 15344,\n",
       " 'according': 1979,\n",
       " 'speaking': 46290,\n",
       " 'judy': 27068,\n",
       " 'woodruff': 54372,\n",
       " 'radio': 39895,\n",
       " 'seeded': 44026,\n",
       " 'virtual': 52931,\n",
       " 'deluge': 13687,\n",
       " 'material': 30914,\n",
       " 'foreign': 19772,\n",
       " 'surveillance': 48099,\n",
       " 'downloaded': 15614,\n",
       " 'synced': 48383,\n",
       " 'computers': 11002,\n",
       " 'experts': 18092,\n",
       " 'knowingly': 27938,\n",
       " 'violated': 52903,\n",
       " 'applying': 3863,\n",
       " 'statutes': 46960,\n",
       " 'illegally': 24543,\n",
       " 'their': 49286,\n",
       " '3rd': 980,\n",
       " 'party': 36375,\n",
       " 'account': 1983,\n",
       " 'days': 13130,\n",
       " 'term': 49088,\n",
       " 'never': 33856,\n",
       " 'applicable': 3855,\n",
       " 'question': 39720,\n",
       " 'asking': 4374,\n",
       " 'why': 53973,\n",
       " 'did': 14447,\n",
       " 'choose': 9738,\n",
       " 'ignore': 24505,\n",
       " 'importantly': 24799,\n",
       " 'upsetting': 52114,\n",
       " 'pattern': 36530,\n",
       " 'misconduct': 32138,\n",
       " 'own': 35860,\n",
       " 'lied': 29171,\n",
       " 'claimed': 9989,\n",
       " 'searched': 43924,\n",
       " 'tell': 48975,\n",
       " 'vt': 53144,\n",
       " 'downloading': 15615,\n",
       " 'falsely': 18493,\n",
       " 'claiming': 9990,\n",
       " 'part': 36326,\n",
       " 'supporting': 48006,\n",
       " 'expansion': 18029,\n",
       " 'such': 47746,\n",
       " 'warrants': 53413,\n",
       " 'spouses': 46556,\n",
       " 'others': 35466,\n",
       " 'whose': 53969,\n",
       " 'accessible': 1936,\n",
       " 'devices': 14304,\n",
       " 'stored': 47278,\n",
       " 'drives': 15782,\n",
       " 'stretch': 47417,\n",
       " 'imagination': 24597,\n",
       " 'legally': 28847,\n",
       " 'accessed': 1934,\n",
       " 'tied': 49625,\n",
       " 'sexual': 44397,\n",
       " 'indiscretions': 25155,\n",
       " 'included': 24988,\n",
       " 'common': 10804,\n",
       " 'dhs': 14361,\n",
       " 'practice': 38280,\n",
       " 'use': 52207,\n",
       " 'single': 45248,\n",
       " 'follow': 19659,\n",
       " 'multiple': 33057,\n",
       " 'users': 52218,\n",
       " 'article': 4256,\n",
       " 'washington': 53442,\n",
       " 'how': 24009,\n",
       " 'should': 44880,\n",
       " 'brought': 7773,\n",
       " 'light': 29216,\n",
       " 'she': 44600,\n",
       " 'unsure': 51968,\n",
       " 'ended': 16954,\n",
       " 'device': 14303,\n",
       " 'viewed': 52820,\n",
       " 'husband': 24231,\n",
       " 'which': 53857,\n",
       " 'reignited': 41051,\n",
       " 'person': 36967,\n",
       " 'civil': 9965,\n",
       " 'litigation': 29424,\n",
       " 'over': 35654,\n",
       " 'matter': 30959,\n",
       " 'discuss': 14812,\n",
       " 'unless': 51726,\n",
       " 'anonymity': 3558,\n",
       " 'regular': 41004,\n",
       " 'user': 52216,\n",
       " 'agreed': 2605,\n",
       " 'turn': 50866,\n",
       " 'state': 46908,\n",
       " 'records': 40647,\n",
       " 'purposes': 39486,\n",
       " 'materials': 30923,\n",
       " 'believing': 6015,\n",
       " 'messages': 31598,\n",
       " 'significant': 45124,\n",
       " 'oversight': 35783,\n",
       " 'work': 54409,\n",
       " 'indeed': 25087,\n",
       " 'allegedly': 2956,\n",
       " 'exchanging': 17883,\n",
       " 'lewd': 29065,\n",
       " '15': 258,\n",
       " 'year': 54778,\n",
       " 'old': 35001,\n",
       " 'girl': 21154,\n",
       " 'so': 45861,\n",
       " 'unclear': 51238,\n",
       " 'related': 41147,\n",
       " 'authorities': 4822,\n",
       " 'contacted': 11469,\n",
       " 'latest': 28549,\n",
       " 'discovery': 14791,\n",
       " 'bureau': 8041,\n",
       " 'took': 49917,\n",
       " 'planted': 37566,\n",
       " 'typically': 50979,\n",
       " 'give': 21174,\n",
       " 'outlined': 35561,\n",
       " 'below': 6059,\n",
       " 'special': 46300,\n",
       " 'agent': 2545,\n",
       " 'cauthen': 9000,\n",
       " 'alternative': 3079,\n",
       " 'investigator': 26072,\n",
       " 'same': 43170,\n",
       " 'manner': 30499,\n",
       " 'turned': 50871,\n",
       " 'connected': 11270,\n",
       " 'data': 13061,\n",
       " 'example': 17840,\n",
       " 'needs': 33665,\n",
       " 'relational': 41151,\n",
       " 'database': 13062,\n",
       " 'software': 45959,\n",
       " 'connection': 11274,\n",
       " 'consider': 11350,\n",
       " 'combining': 10682,\n",
       " 'owner': 35862,\n",
       " 'location': 29536,\n",
       " 'rule': 42782,\n",
       " '41': 1000,\n",
       " 'provider': 39182,\n",
       " '2703': 765,\n",
       " 'content': 11509,\n",
       " 'approach': 3899,\n",
       " 'will': 54067,\n",
       " 'need': 33653,\n",
       " 'understand': 51402,\n",
       " 'operate': 35173,\n",
       " 'make': 30288,\n",
       " 'queries': 39714,\n",
       " 'must': 33184,\n",
       " 'comply': 10949,\n",
       " 'carefully': 8686,\n",
       " 'taken': 48551,\n",
       " 'live': 29442,\n",
       " 'method': 31664,\n",
       " 'obtain': 34792,\n",
       " 'provisions': 39193,\n",
       " 'noted': 34408,\n",
       " 'implementing': 24769,\n",
       " 'strategy': 47363,\n",
       " 'handling': 22501,\n",
       " 'yorker': 54884,\n",
       " 'dated': 13072,\n",
       " '28': 777,\n",
       " 'cuts': 12767,\n",
       " 'mind': 31975,\n",
       " 'borowitz': 7204,\n",
       " 'embattled': 16704,\n",
       " 'presided': 38568,\n",
       " 'ceremony': 9199,\n",
       " 'evening': 17715,\n",
       " 'commend': 10752,\n",
       " 'brave': 7460,\n",
       " 'agents': 2546,\n",
       " 'touch': 50034,\n",
       " 'awarding': 4946,\n",
       " 'commendations': 10756,\n",
       " 'whom': 53955,\n",
       " 'called': 8380,\n",
       " 'bravest': 7466,\n",
       " 'men': 31467,\n",
       " 'women': 54333,\n",
       " 'country': 12044,\n",
       " 'offer': 34911,\n",
       " 'criticized': 12387,\n",
       " 'political': 37898,\n",
       " 'uproar': 52105,\n",
       " 'overshadowed': 35776,\n",
       " 'selfless': 44111,\n",
       " 'heroism': 23263,\n",
       " 'performed': 36853,\n",
       " 'call': 8376,\n",
       " 'duty': 16043,\n",
       " 'visibly': 52954,\n",
       " 'angry': 3458,\n",
       " 'know': 27935,\n",
       " 're': 40292,\n",
       " 'eleven': 16578,\n",
       " 'away': 4951,\n",
       " 'tensions': 49060,\n",
       " 'running': 42825,\n",
       " 'shouldn': 44885,\n",
       " 'let': 29005,\n",
       " 'subtract': 47710,\n",
       " 'way': 53529,\n",
       " 'hands': 22508,\n",
       " 'among': 3262,\n",
       " 'look': 29645,\n",
       " 'ourselves': 35499,\n",
       " 'mirror': 32093,\n",
       " 'takes': 48559,\n",
       " 'asked': 4370,\n",
       " 'hell': 23116,\n",
       " 'couldn': 11967,\n",
       " 'hide': 23355,\n",
       " 'ones': 35105,\n",
       " 'train': 50185,\n",
       " 'wrap': 54512,\n",
       " 'whatever': 53821,\n",
       " 'smell': 45680,\n",
       " 'bloody': 6799,\n",
       " 'flag': 19332,\n",
       " 'hand': 22470,\n",
       " 'medals': 31276,\n",
       " 'deception': 13297,\n",
       " '101': 110,\n",
       " 'wasn': 53449,\n",
       " 'least': 28766,\n",
       " 'bit': 6548,\n",
       " 'coy': 12134,\n",
       " 'steeped': 47026,\n",
       " 'ethical': 17595,\n",
       " 'complicity': 10942,\n",
       " 'theatrics': 49266,\n",
       " 'abuse': 1878,\n",
       " 'terrorism': 49133,\n",
       " 'bush': 8122,\n",
       " 'era': 17368,\n",
       " '2008': 599,\n",
       " 'curtailed': 12720,\n",
       " 'york': 54883,\n",
       " 'april': 3926,\n",
       " '19': 445,\n",
       " 'judge': 27045,\n",
       " 'rejected': 41123,\n",
       " 'challenge': 9298,\n",
       " 'permitting': 36918,\n",
       " 'cases': 8837,\n",
       " 'americans': 3213,\n",
       " 'intercepted': 25784,\n",
       " 'without': 54245,\n",
       " 'name': 33382,\n",
       " 'gathering': 20734,\n",
       " '80': 1443,\n",
       " 'page': 35961,\n",
       " 'opinion': 35193,\n",
       " 'issued': 26330,\n",
       " 'november': 34456,\n",
       " 'remained': 41241,\n",
       " 'until': 51991,\n",
       " 'tuesday': 50780,\n",
       " 'thomas': 49447,\n",
       " 'hogan': 23631,\n",
       " 'chief': 9637,\n",
       " 'ruled': 42784,\n",
       " 'backdoor': 5107,\n",
       " 'searches': 43926,\n",
       " 'both': 7238,\n",
       " 'amendments': 3195,\n",
       " 'statute': 46959,\n",
       " 'legalized': 28843,\n",
       " 'form': 19844,\n",
       " 'once': 35092,\n",
       " 'secret': 43973,\n",
       " 'warrantless': 53412,\n",
       " 'program': 38909,\n",
       " 'considerable': 11351,\n",
       " 'involving': 26112,\n",
       " 'administration': 2265,\n",
       " 'covering': 12103,\n",
       " 'broad': 7692,\n",
       " 'numerous': 34562,\n",
       " 'occasions': 34810,\n",
       " 'misused': 32288,\n",
       " 'courts': 12084,\n",
       " 'forewarned': 19808,\n",
       " 'attempt': 4659,\n",
       " 'questionable': 39721,\n",
       " 'intended': 25748,\n",
       " 'threats': 49500,\n",
       " 'applied': 3860,\n",
       " 'knowing': 27937,\n",
       " 'too': 49913,\n",
       " 'correct': 11845,\n",
       " 'damage': 12912,\n",
       " 'rigged': 42146,\n",
       " 'john': 26883,\n",
       " 'podesta': 37788,\n",
       " 'references': 40840,\n",
       " 'elena': 16569,\n",
       " 'kagan': 27211,\n",
       " 'supreme': 48025,\n",
       " 'hasn': 22747,\n",
       " 'gotten': 21539,\n",
       " 'cbs': 9043,\n",
       " 'news': 33887,\n",
       " 'august': 4766,\n",
       " '21': 656,\n",
       " 'josiah': 26958,\n",
       " 'dykstra': 16079,\n",
       " 'seizing': 44085,\n",
       " 'electronic': 16551,\n",
       " 'computing': 11003,\n",
       " 'environments': 17247,\n",
       " 'cybercrime': 12787,\n",
       " 'forensics': 19780,\n",
       " 'applications': 3859,\n",
       " 'processes': 38815,\n",
       " 'ed': 16281,\n",
       " 'ruan': 42707,\n",
       " 'hershey': 23274,\n",
       " 'pa': 35902,\n",
       " 'igi': 24487,\n",
       " 'global': 21260,\n",
       " 'tony': 49909,\n",
       " 'sammes': 43177,\n",
       " 'jenkinson': 26697,\n",
       " 'forensic': 19779,\n",
       " 'practitioner': 38288,\n",
       " 'guide': 22079,\n",
       " 'london': 29618,\n",
       " 'uk': 51056,\n",
       " 'springer': 46584,\n",
       " 'verlag': 52673,\n",
       " '2000': 588,\n",
       " 'idea': 24414,\n",
       " 'copying': 11755,\n",
       " 'disk': 14904,\n",
       " 'off': 34895,\n",
       " 'dead': 13162,\n",
       " 'recovery': 40661,\n",
       " 'involves': 26111,\n",
       " 'changes': 9341,\n",
       " 'contents': 11516,\n",
       " 'storage': 47275,\n",
       " 'space': 46217,\n",
       " '18': 355,\n",
       " '2510': 732,\n",
       " 'therefore': 49344,\n",
       " 'essential': 17532,\n",
       " 'competent': 10890,\n",
       " 'testimony': 49174,\n",
       " 'performs': 36857,\n",
       " 'showing': 44911,\n",
       " 'continuity': 11548,\n",
       " 'integrity': 25731,\n",
       " 'preserved': 38562,\n",
       " 'crime': 12323,\n",
       " 'intellectual': 25735,\n",
       " 'property': 39038,\n",
       " 'section': 43986,\n",
       " 'division': 15233,\n",
       " 'searching': 43927,\n",
       " '3d': 975,\n",
       " 'office': 34918,\n",
       " 'education': 16336,\n",
       " 'executive': 17939,\n",
       " 'attorneys': 4696,\n",
       " '2009': 600,\n",
       " '84': 1475,\n",
       " 'although': 3087,\n",
       " 'addressed': 2193,\n",
       " 'combined': 10679,\n",
       " 'interpretation': 25882,\n",
       " 'limit': 29279,\n",
       " 'physically': 37241,\n",
       " 'resides': 41623,\n",
       " 'district': 15161,\n",
       " 'classes': 10047,\n",
       " 'providers': 39183,\n",
       " 'provide': 39179,\n",
       " 'communication': 10824,\n",
       " 'services': 44308,\n",
       " 'remote': 41292,\n",
       " 'service': 44300,\n",
       " 'see': 44024,\n",
       " '2711': 767,\n",
       " 'gorshkov': 21512,\n",
       " '2001': 591,\n",
       " 'wl': 54277,\n",
       " '1024026': 116,\n",
       " '23': 696,\n",
       " 'defendants': 13478,\n",
       " 'moved': 32884,\n",
       " 'suppress': 48012,\n",
       " 'motion': 32796,\n",
       " 'denied': 13820,\n",
       " 'nonetheless': 34241,\n",
       " 'charged': 9401,\n",
       " 'hacking': 22267,\n",
       " 'extradited': 18224,\n",
       " 'trial': 50456,\n",
       " 'complied': 10943,\n",
       " 'pedro': 36687,\n",
       " 'lomax': 29615,\n",
       " 'pedrolomax': 36688,\n",
       " 'better': 6271,\n",
       " 'cyber': 12783,\n",
       " 'awareness': 4949,\n",
       " 'month': 32630,\n",
       " 'matt': 30953,\n",
       " 'frost': 20265,\n",
       " 'mattfrost': 30964,\n",
       " 'you': 54890,\n",
       " 'kidding': 27677,\n",
       " 'right': 42148,\n",
       " 'note': 34405,\n",
       " 'following': 19664,\n",
       " 'column': 10650,\n",
       " 'originally': 35368,\n",
       " 'resurgent': 41774,\n",
       " 'website': 53625,\n",
       " 'reprinted': 41488,\n",
       " '48': 1078,\n",
       " 'since': 45227,\n",
       " 'horrific': 23910,\n",
       " 'mass': 30850,\n",
       " 'shooting': 44823,\n",
       " 'orlando': 35381,\n",
       " 'worst': 54472,\n",
       " 'attack': 4648,\n",
       " 'soil': 45963,\n",
       " 'wall': 53289,\n",
       " 'media': 31287,\n",
       " 'coverage': 12101,\n",
       " 'events': 17720,\n",
       " 'false': 18490,\n",
       " 'narrative': 33441,\n",
       " 'emerging': 16747,\n",
       " 'seeks': 44037,\n",
       " 'few': 18991,\n",
       " 'points': 37827,\n",
       " 'red': 40697,\n",
       " 'herrings': 23269,\n",
       " 'straw': 47374,\n",
       " 'designed': 14092,\n",
       " 'attention': 4673,\n",
       " 'truth': 50718,\n",
       " 'shooter': 44821,\n",
       " 'omar': 35056,\n",
       " 'mateen': 30910,\n",
       " 'homophobic': 23771,\n",
       " 'because': 5834,\n",
       " 'hated': 22776,\n",
       " 'gays': 20773,\n",
       " ...}"
      ]
     },
     "execution_count": 145,
     "metadata": {},
     "output_type": "execute_result"
    }
   ],
   "source": [
    "# Each word is assigned to a word ID\n",
    "tfidf.vocabulary_"
   ]
  },
  {
   "cell_type": "code",
   "execution_count": 146,
   "metadata": {
    "ExecuteTime": {
     "end_time": "2020-04-27T17:56:50.620708Z",
     "start_time": "2020-04-27T17:56:50.559370Z"
    }
   },
   "outputs": [
    {
     "data": {
      "text/plain": [
       "'we'"
      ]
     },
     "execution_count": 146,
     "metadata": {},
     "output_type": "execute_result"
    }
   ],
   "source": [
    "tfidf.get_feature_names()[53557]"
   ]
  },
  {
   "cell_type": "code",
   "execution_count": 147,
   "metadata": {
    "ExecuteTime": {
     "end_time": "2020-04-27T17:56:51.939493Z",
     "start_time": "2020-04-27T17:56:51.401241Z"
    }
   },
   "outputs": [
    {
     "data": {
      "text/plain": [
       "LogisticRegression(C=1.0, class_weight=None, dual=False, fit_intercept=True,\n",
       "                   intercept_scaling=1, l1_ratio=None, max_iter=100,\n",
       "                   multi_class='auto', n_jobs=None, penalty='l2',\n",
       "                   random_state=42, solver='lbfgs', tol=0.0001, verbose=0,\n",
       "                   warm_start=False)"
      ]
     },
     "execution_count": 147,
     "metadata": {},
     "output_type": "execute_result"
    }
   ],
   "source": [
    "lr_model = LogisticRegression(solver='lbfgs', random_state=42)\n",
    "\n",
    "lr_model.fit(X_train_tfidf, y_train)"
   ]
  },
  {
   "cell_type": "markdown",
   "metadata": {},
   "source": [
    "#### Report the results"
   ]
  },
  {
   "cell_type": "code",
   "execution_count": 148,
   "metadata": {
    "ExecuteTime": {
     "end_time": "2020-04-27T17:56:53.600554Z",
     "start_time": "2020-04-27T17:56:53.582170Z"
    }
   },
   "outputs": [
    {
     "name": "stdout",
     "output_type": "stream",
     "text": [
      "[[786  56]\n",
      " [ 88 773]]\n"
     ]
    }
   ],
   "source": [
    "y_pred = lr_model.predict(X_valid_tfidf)\n",
    "print(confusion_matrix(y_valid, y_pred))"
   ]
  },
  {
   "cell_type": "code",
   "execution_count": 149,
   "metadata": {
    "ExecuteTime": {
     "end_time": "2020-04-27T17:56:54.991411Z",
     "start_time": "2020-04-27T17:56:54.947361Z"
    }
   },
   "outputs": [
    {
     "name": "stdout",
     "output_type": "stream",
     "text": [
      "              precision    recall  f1-score   support\n",
      "\n",
      "        FAKE       0.90      0.93      0.92       842\n",
      "        REAL       0.93      0.90      0.91       861\n",
      "\n",
      "    accuracy                           0.92      1703\n",
      "   macro avg       0.92      0.92      0.92      1703\n",
      "weighted avg       0.92      0.92      0.92      1703\n",
      "\n"
     ]
    }
   ],
   "source": [
    "print(classification_report(y_valid, y_pred))"
   ]
  },
  {
   "cell_type": "code",
   "execution_count": 150,
   "metadata": {
    "ExecuteTime": {
     "end_time": "2020-04-27T17:56:55.416851Z",
     "start_time": "2020-04-27T17:56:55.409249Z"
    }
   },
   "outputs": [
    {
     "name": "stdout",
     "output_type": "stream",
     "text": [
      "0.9154433352906636\n"
     ]
    }
   ],
   "source": [
    "print(accuracy_score(y_valid, y_pred))"
   ]
  },
  {
   "cell_type": "markdown",
   "metadata": {},
   "source": [
    "#### Using Logistic Regression coefficients"
   ]
  },
  {
   "cell_type": "code",
   "execution_count": 151,
   "metadata": {
    "ExecuteTime": {
     "end_time": "2020-04-27T17:57:43.794247Z",
     "start_time": "2020-04-27T17:57:43.775022Z"
    }
   },
   "outputs": [],
   "source": [
    "col_name = [i for i in tfidf_df.columns]\n",
    "coef_value = [i for i in lr_model.coef_.tolist()[0]]"
   ]
  },
  {
   "cell_type": "code",
   "execution_count": 152,
   "metadata": {
    "ExecuteTime": {
     "end_time": "2020-04-27T17:57:44.432473Z",
     "start_time": "2020-04-27T17:57:44.415652Z"
    }
   },
   "outputs": [],
   "source": [
    "dico = dict(zip(col_name, coef_value))"
   ]
  },
  {
   "cell_type": "code",
   "execution_count": 153,
   "metadata": {
    "ExecuteTime": {
     "end_time": "2020-04-27T17:57:52.011481Z",
     "start_time": "2020-04-27T17:57:51.964076Z"
    }
   },
   "outputs": [
    {
     "data": {
      "text/plain": [
       "[('said', 5.956685076831345),\n",
       " ('hillary', -3.784484261373626),\n",
       " ('2016', -3.652911552745588),\n",
       " ('october', -2.8557914384120235),\n",
       " ('he', 2.7595200295696585),\n",
       " ('but', 2.637393945195805),\n",
       " ('election', -2.556211681018725),\n",
       " ('that', 2.554334038576233),\n",
       " ('us', -2.5290072912043726),\n",
       " ('in', 2.525647921312758),\n",
       " ('sanders', 2.4454754812695594),\n",
       " ('fbi', -2.4095908977426452),\n",
       " ('his', 2.256222329877455),\n",
       " ('by', -2.2498468286456794),\n",
       " ('cruz', 2.196120062484507)]"
      ]
     },
     "execution_count": 153,
     "metadata": {},
     "output_type": "execute_result"
    }
   ],
   "source": [
    "# We print the 15 words with the highest absolute coef\n",
    "sorted(dico.items(), key=lambda x: abs(x[1]), reverse=True)[:15]"
   ]
  },
  {
   "cell_type": "markdown",
   "metadata": {},
   "source": [
    "### Train a Naive Bayes Classifier"
   ]
  },
  {
   "cell_type": "code",
   "execution_count": 154,
   "metadata": {
    "ExecuteTime": {
     "end_time": "2020-04-27T17:58:05.599834Z",
     "start_time": "2020-04-27T17:58:03.486291Z"
    }
   },
   "outputs": [
    {
     "data": {
      "text/plain": [
       "Pipeline(memory=None,\n",
       "         steps=[('tfidf',\n",
       "                 TfidfVectorizer(analyzer='word', binary=False,\n",
       "                                 decode_error='strict',\n",
       "                                 dtype=<class 'numpy.float64'>,\n",
       "                                 encoding='utf-8', input='content',\n",
       "                                 lowercase=True, max_df=1.0, max_features=None,\n",
       "                                 min_df=1, ngram_range=(1, 1), norm='l2',\n",
       "                                 preprocessor=None, smooth_idf=True,\n",
       "                                 stop_words=None, strip_accents=None,\n",
       "                                 sublinear_tf=False,\n",
       "                                 token_pattern='(?u)\\\\b\\\\w\\\\w+\\\\b',\n",
       "                                 tokenizer=None, use_idf=True,\n",
       "                                 vocabulary=None)),\n",
       "                ('nb_model',\n",
       "                 MultinomialNB(alpha=1.0, class_prior=None, fit_prior=True))],\n",
       "         verbose=False)"
      ]
     },
     "execution_count": 154,
     "metadata": {},
     "output_type": "execute_result"
    }
   ],
   "source": [
    "text_clf = Pipeline([('tfidf', TfidfVectorizer()),\n",
    "                    ('nb_model', MultinomialNB())])\n",
    "\n",
    "text_clf.fit(X_train, y_train)"
   ]
  },
  {
   "cell_type": "markdown",
   "metadata": {},
   "source": [
    "#### Report the results"
   ]
  },
  {
   "cell_type": "code",
   "execution_count": 155,
   "metadata": {
    "ExecuteTime": {
     "end_time": "2020-04-27T17:58:07.606918Z",
     "start_time": "2020-04-27T17:58:06.531920Z"
    }
   },
   "outputs": [],
   "source": [
    "y_pred = text_clf.predict(X_valid)"
   ]
  },
  {
   "cell_type": "code",
   "execution_count": 156,
   "metadata": {
    "ExecuteTime": {
     "end_time": "2020-04-27T17:58:07.726401Z",
     "start_time": "2020-04-27T17:58:07.716371Z"
    }
   },
   "outputs": [
    {
     "name": "stdout",
     "output_type": "stream",
     "text": [
      "[[512 330]\n",
      " [  8 853]]\n"
     ]
    }
   ],
   "source": [
    "print(confusion_matrix(y_valid, y_pred))"
   ]
  },
  {
   "cell_type": "code",
   "execution_count": 157,
   "metadata": {
    "ExecuteTime": {
     "end_time": "2020-04-27T17:58:08.254594Z",
     "start_time": "2020-04-27T17:58:08.216499Z"
    }
   },
   "outputs": [
    {
     "name": "stdout",
     "output_type": "stream",
     "text": [
      "              precision    recall  f1-score   support\n",
      "\n",
      "        FAKE       0.98      0.61      0.75       842\n",
      "        REAL       0.72      0.99      0.83       861\n",
      "\n",
      "    accuracy                           0.80      1703\n",
      "   macro avg       0.85      0.80      0.79      1703\n",
      "weighted avg       0.85      0.80      0.79      1703\n",
      "\n"
     ]
    }
   ],
   "source": [
    "print(classification_report(y_valid, y_pred))"
   ]
  },
  {
   "cell_type": "code",
   "execution_count": 158,
   "metadata": {
    "ExecuteTime": {
     "end_time": "2020-04-27T17:58:09.188645Z",
     "start_time": "2020-04-27T17:58:09.182217Z"
    }
   },
   "outputs": [
    {
     "name": "stdout",
     "output_type": "stream",
     "text": [
      "0.8015267175572519\n"
     ]
    }
   ],
   "source": [
    "print(accuracy_score(y_valid, y_pred))"
   ]
  },
  {
   "cell_type": "markdown",
   "metadata": {
    "colab": {},
    "colab_type": "code",
    "id": "RxH6lJHpfFYK"
   },
   "source": [
    "### Train a Linear SVC"
   ]
  },
  {
   "cell_type": "code",
   "execution_count": 125,
   "metadata": {
    "ExecuteTime": {
     "end_time": "2020-04-27T17:51:08.367570Z",
     "start_time": "2020-04-27T17:51:06.087739Z"
    },
    "colab": {},
    "colab_type": "code",
    "id": "LHcLFZhKfFVd"
   },
   "outputs": [
    {
     "data": {
      "text/plain": [
       "Pipeline(memory=None,\n",
       "         steps=[('tfidf',\n",
       "                 TfidfVectorizer(analyzer='word', binary=False,\n",
       "                                 decode_error='strict',\n",
       "                                 dtype=<class 'numpy.float64'>,\n",
       "                                 encoding='utf-8', input='content',\n",
       "                                 lowercase=True, max_df=1.0, max_features=None,\n",
       "                                 min_df=1, ngram_range=(1, 1), norm='l2',\n",
       "                                 preprocessor=None, smooth_idf=True,\n",
       "                                 stop_words=None, strip_accents=None,\n",
       "                                 sublinear_tf=False,\n",
       "                                 token_pattern='(?u)\\\\b\\\\w\\\\w+\\\\b',\n",
       "                                 tokenizer=None, use_idf=True,\n",
       "                                 vocabulary=None)),\n",
       "                ('clf',\n",
       "                 LinearSVC(C=1.0, class_weight=None, dual=True,\n",
       "                           fit_intercept=True, intercept_scaling=1,\n",
       "                           loss='squared_hinge', max_iter=1000,\n",
       "                           multi_class='ovr', penalty='l2', random_state=42,\n",
       "                           tol=0.0001, verbose=0))],\n",
       "         verbose=False)"
      ]
     },
     "execution_count": 125,
     "metadata": {},
     "output_type": "execute_result"
    }
   ],
   "source": [
    "text_clf = Pipeline([('tfidf', TfidfVectorizer(ngram_range = (1,3))),\n",
    "                    ('clf', LinearSVC(random_state=42))])\n",
    "\n",
    "text_clf.fit(X_train, y_train)"
   ]
  },
  {
   "cell_type": "markdown",
   "metadata": {
    "colab": {},
    "colab_type": "code",
    "id": "m3DllVXAfFSI"
   },
   "source": [
    "#### Report the results"
   ]
  },
  {
   "cell_type": "code",
   "execution_count": 131,
   "metadata": {
    "ExecuteTime": {
     "end_time": "2020-04-27T17:52:36.818603Z",
     "start_time": "2020-04-27T17:52:36.801456Z"
    }
   },
   "outputs": [
    {
     "data": {
      "text/html": [
       "<div>\n",
       "<style scoped>\n",
       "    .dataframe tbody tr th:only-of-type {\n",
       "        vertical-align: middle;\n",
       "    }\n",
       "\n",
       "    .dataframe tbody tr th {\n",
       "        vertical-align: top;\n",
       "    }\n",
       "\n",
       "    .dataframe thead th {\n",
       "        text-align: right;\n",
       "    }\n",
       "</style>\n",
       "<table border=\"1\" class=\"dataframe\">\n",
       "  <thead>\n",
       "    <tr style=\"text-align: right;\">\n",
       "      <th></th>\n",
       "      <th>FAKE_pred</th>\n",
       "      <th>REAL_pred</th>\n",
       "    </tr>\n",
       "  </thead>\n",
       "  <tbody>\n",
       "    <tr>\n",
       "      <td>FAKE</td>\n",
       "      <td>802</td>\n",
       "      <td>40</td>\n",
       "    </tr>\n",
       "    <tr>\n",
       "      <td>REAL</td>\n",
       "      <td>61</td>\n",
       "      <td>800</td>\n",
       "    </tr>\n",
       "  </tbody>\n",
       "</table>\n",
       "</div>"
      ],
      "text/plain": [
       "      FAKE_pred  REAL_pred\n",
       "FAKE        802         40\n",
       "REAL         61        800"
      ]
     },
     "metadata": {},
     "output_type": "display_data"
    }
   ],
   "source": [
    "df_conf_mat = pd.DataFrame(confusion_matrix(y_valid,y_pred), index=['FAKE','REAL'], columns=['FAKE_pred','REAL_pred'])\n",
    "display(df_conf_mat)"
   ]
  },
  {
   "cell_type": "code",
   "execution_count": 127,
   "metadata": {
    "ExecuteTime": {
     "end_time": "2020-04-27T17:51:20.059789Z",
     "start_time": "2020-04-27T17:51:19.105614Z"
    },
    "colab": {},
    "colab_type": "code",
    "id": "ly9HIAl9fFFe"
   },
   "outputs": [],
   "source": [
    "y_pred = text_clf.predict(X_valid)"
   ]
  },
  {
   "cell_type": "code",
   "execution_count": 128,
   "metadata": {
    "ExecuteTime": {
     "end_time": "2020-04-27T17:51:20.679283Z",
     "start_time": "2020-04-27T17:51:20.669342Z"
    }
   },
   "outputs": [
    {
     "name": "stdout",
     "output_type": "stream",
     "text": [
      "[[802  40]\n",
      " [ 61 800]]\n"
     ]
    }
   ],
   "source": [
    "print(confusion_matrix(y_valid, y_pred))"
   ]
  },
  {
   "cell_type": "code",
   "execution_count": 129,
   "metadata": {
    "ExecuteTime": {
     "end_time": "2020-04-27T17:51:23.507855Z",
     "start_time": "2020-04-27T17:51:23.461873Z"
    }
   },
   "outputs": [
    {
     "name": "stdout",
     "output_type": "stream",
     "text": [
      "              precision    recall  f1-score   support\n",
      "\n",
      "        FAKE       0.93      0.95      0.94       842\n",
      "        REAL       0.95      0.93      0.94       861\n",
      "\n",
      "    accuracy                           0.94      1703\n",
      "   macro avg       0.94      0.94      0.94      1703\n",
      "weighted avg       0.94      0.94      0.94      1703\n",
      "\n"
     ]
    }
   ],
   "source": [
    "print(classification_report(y_valid, y_pred))"
   ]
  },
  {
   "cell_type": "code",
   "execution_count": 130,
   "metadata": {
    "ExecuteTime": {
     "end_time": "2020-04-27T17:51:24.382399Z",
     "start_time": "2020-04-27T17:51:24.375726Z"
    }
   },
   "outputs": [
    {
     "name": "stdout",
     "output_type": "stream",
     "text": [
      "0.9406928948913682\n"
     ]
    }
   ],
   "source": [
    "print(accuracy_score(y_valid, y_pred))"
   ]
  },
  {
   "cell_type": "markdown",
   "metadata": {},
   "source": [
    "## Prediction on the test set"
   ]
  },
  {
   "cell_type": "code",
   "execution_count": 159,
   "metadata": {
    "ExecuteTime": {
     "end_time": "2020-04-27T20:47:08.000861Z",
     "start_time": "2020-04-27T20:47:07.987892Z"
    }
   },
   "outputs": [],
   "source": [
    "X_test = df_test['text']\n",
    "y_test = df_test['label']"
   ]
  },
  {
   "cell_type": "markdown",
   "metadata": {},
   "source": [
    "### Fit our best model on all the train data"
   ]
  },
  {
   "cell_type": "code",
   "execution_count": 160,
   "metadata": {
    "ExecuteTime": {
     "end_time": "2020-04-27T20:47:17.706330Z",
     "start_time": "2020-04-27T20:47:14.278663Z"
    }
   },
   "outputs": [
    {
     "data": {
      "text/plain": [
       "Pipeline(memory=None,\n",
       "         steps=[('tfidf',\n",
       "                 TfidfVectorizer(analyzer='word', binary=False,\n",
       "                                 decode_error='strict',\n",
       "                                 dtype=<class 'numpy.float64'>,\n",
       "                                 encoding='utf-8', input='content',\n",
       "                                 lowercase=True, max_df=1.0, max_features=None,\n",
       "                                 min_df=1, ngram_range=(1, 1), norm='l2',\n",
       "                                 preprocessor=None, smooth_idf=True,\n",
       "                                 stop_words=None, strip_accents=None,\n",
       "                                 sublinear_tf=False,\n",
       "                                 token_pattern='(?u)\\\\b\\\\w\\\\w+\\\\b',\n",
       "                                 tokenizer=None, use_idf=True,\n",
       "                                 vocabulary=None)),\n",
       "                ('clf',\n",
       "                 LinearSVC(C=1.0, class_weight=None, dual=True,\n",
       "                           fit_intercept=True, intercept_scaling=1,\n",
       "                           loss='squared_hinge', max_iter=1000,\n",
       "                           multi_class='ovr', penalty='l2', random_state=42,\n",
       "                           tol=0.0001, verbose=0))],\n",
       "         verbose=False)"
      ]
     },
     "execution_count": 160,
     "metadata": {},
     "output_type": "execute_result"
    }
   ],
   "source": [
    "text_clf = Pipeline([('tfidf', TfidfVectorizer()),\n",
    "                    ('clf', LinearSVC(random_state=42))])\n",
    "\n",
    "text_clf.fit(X, y)"
   ]
  },
  {
   "cell_type": "markdown",
   "metadata": {},
   "source": [
    "### Report the results"
   ]
  },
  {
   "cell_type": "code",
   "execution_count": 161,
   "metadata": {
    "ExecuteTime": {
     "end_time": "2020-04-27T20:47:23.177232Z",
     "start_time": "2020-04-27T20:47:22.755205Z"
    }
   },
   "outputs": [],
   "source": [
    "y_pred = text_clf.predict(X_test)"
   ]
  },
  {
   "cell_type": "code",
   "execution_count": 162,
   "metadata": {
    "ExecuteTime": {
     "end_time": "2020-04-27T20:47:24.401292Z",
     "start_time": "2020-04-27T20:47:24.391581Z"
    }
   },
   "outputs": [
    {
     "name": "stdout",
     "output_type": "stream",
     "text": [
      "[[294  15]\n",
      " [ 23 301]]\n"
     ]
    }
   ],
   "source": [
    "print(confusion_matrix(y_test, y_pred))"
   ]
  },
  {
   "cell_type": "code",
   "execution_count": 163,
   "metadata": {
    "ExecuteTime": {
     "end_time": "2020-04-27T20:47:29.856441Z",
     "start_time": "2020-04-27T20:47:29.832604Z"
    }
   },
   "outputs": [
    {
     "name": "stdout",
     "output_type": "stream",
     "text": [
      "              precision    recall  f1-score   support\n",
      "\n",
      "        FAKE       0.93      0.95      0.94       309\n",
      "        REAL       0.95      0.93      0.94       324\n",
      "\n",
      "    accuracy                           0.94       633\n",
      "   macro avg       0.94      0.94      0.94       633\n",
      "weighted avg       0.94      0.94      0.94       633\n",
      "\n"
     ]
    }
   ],
   "source": [
    "print(classification_report(y_test, y_pred))"
   ]
  },
  {
   "cell_type": "code",
   "execution_count": 164,
   "metadata": {
    "ExecuteTime": {
     "end_time": "2020-04-27T20:47:30.826526Z",
     "start_time": "2020-04-27T20:47:30.820397Z"
    }
   },
   "outputs": [
    {
     "name": "stdout",
     "output_type": "stream",
     "text": [
      "0.9399684044233807\n"
     ]
    }
   ],
   "source": [
    "print(accuracy_score(y_test, y_pred))"
   ]
  },
  {
   "cell_type": "markdown",
   "metadata": {
    "colab_type": "text",
    "id": "TTGEdyVNYmya"
   },
   "source": [
    "# Deep Learning"
   ]
  },
  {
   "cell_type": "code",
   "execution_count": null,
   "metadata": {
    "ExecuteTime": {
     "end_time": "2020-04-27T15:45:03.213225Z",
     "start_time": "2020-04-27T15:44:53.841Z"
    },
    "colab": {},
    "colab_type": "code",
    "id": "NkuQY9-WkkVM"
   },
   "outputs": [],
   "source": [
    "import torch\n",
    "from torchtext import data\n",
    "from torchtext import datasets\n",
    "import random\n",
    "\n",
    "SEED = 1234\n",
    "\n",
    "#torch.manual_seed(SEED)\n",
    "\n",
    "\n",
    "TEXT = data.Field(tokenize = 'spacy', batch_first = True)\n",
    "LABEL = data.LabelField(dtype = torch.float)"
   ]
  },
  {
   "cell_type": "code",
   "execution_count": null,
   "metadata": {
    "ExecuteTime": {
     "end_time": "2020-04-27T15:45:03.215048Z",
     "start_time": "2020-04-27T15:44:53.843Z"
    },
    "colab": {},
    "colab_type": "code",
    "id": "PUEExrPhYk1e"
   },
   "outputs": [],
   "source": [
    "#defining tuples (le premier du tuple doit match notre nom de dataset tabulaire, le deuxieme doit match son field)\n",
    "fields = [(\"Unnamed: 0\",None),(\"title\", None),(\"text\", TEXT),(\"label\", LABEL)]"
   ]
  },
  {
   "cell_type": "code",
   "execution_count": null,
   "metadata": {
    "ExecuteTime": {
     "end_time": "2020-04-27T15:45:03.217098Z",
     "start_time": "2020-04-27T15:44:53.846Z"
    },
    "colab": {},
    "colab_type": "code",
    "id": "P5Y9AUgRYk0F"
   },
   "outputs": [],
   "source": [
    "#importer les donnees dependement de si on a train, valid, test ou bien juste train / test. Ici on a juste un fichier train, voir sentiment 1 pour multi fichier options (pas de .split apres TabularDataset)\n",
    "train = data.TabularDataset(path = 'fake_or_real_news.csv',\n",
    "                                format = 'csv',\n",
    "                                fields = fields,\n",
    "                                skip_header = True )"
   ]
  },
  {
   "cell_type": "code",
   "execution_count": null,
   "metadata": {
    "ExecuteTime": {
     "end_time": "2020-04-27T15:45:03.219156Z",
     "start_time": "2020-04-27T15:44:53.849Z"
    },
    "colab": {},
    "colab_type": "code",
    "id": "L6CmRd9_Ykxy"
   },
   "outputs": [],
   "source": [
    "train_data, valid_data = train.split(split_ratio = 0.8, random_state = random.seed(SEED))"
   ]
  },
  {
   "cell_type": "code",
   "execution_count": null,
   "metadata": {
    "ExecuteTime": {
     "end_time": "2020-04-27T15:45:03.220731Z",
     "start_time": "2020-04-27T15:44:53.851Z"
    },
    "colab": {},
    "colab_type": "code",
    "id": "wKQ6ninpYkvx"
   },
   "outputs": [],
   "source": [
    "print(f'Training has {len(train_data)} observations \\nValidation has {len(valid_data)} observations')"
   ]
  },
  {
   "cell_type": "code",
   "execution_count": null,
   "metadata": {
    "ExecuteTime": {
     "end_time": "2020-04-27T15:45:03.223205Z",
     "start_time": "2020-04-27T15:44:53.854Z"
    },
    "colab": {},
    "colab_type": "code",
    "id": "jSpe2uXpYkug"
   },
   "outputs": [],
   "source": [
    "TEXT.build_vocab(train_data, \n",
    "                 \n",
    "                 vectors = \"glove.6B.100d\", \n",
    "                 unk_init = torch.Tensor.normal_)\n",
    "\n",
    "LABEL.build_vocab(train_data)"
   ]
  },
  {
   "cell_type": "code",
   "execution_count": null,
   "metadata": {
    "ExecuteTime": {
     "end_time": "2020-04-27T15:45:03.224916Z",
     "start_time": "2020-04-27T15:44:53.857Z"
    },
    "colab": {},
    "colab_type": "code",
    "id": "wqe__niBYksz"
   },
   "outputs": [],
   "source": [
    "BATCH_SIZE = 10\n",
    "\n",
    "device = torch.device('cuda' if torch.cuda.is_available() else 'cpu')\n",
    "\n",
    "train_iterator, valid_iterator = data.BucketIterator.splits((train_data, valid_data),\n",
    "                                                    batch_sizes = (10,10),\n",
    "                                                    device = device,\n",
    "                                                    sort_key = lambda x: x.text,\n",
    "                                                    sort_within_batch = True)"
   ]
  },
  {
   "cell_type": "code",
   "execution_count": null,
   "metadata": {
    "ExecuteTime": {
     "end_time": "2020-04-27T15:45:03.227164Z",
     "start_time": "2020-04-27T15:44:53.860Z"
    },
    "colab": {},
    "colab_type": "code",
    "id": "aHuNzwm5Ykqs"
   },
   "outputs": [],
   "source": [
    "import torch.nn as nn\n",
    "import torch.nn.functional as F\n",
    "\n",
    "\n",
    "class CNN(nn.Module):\n",
    "    def __init__(self, vocab_size, embedding_dim, n_filters, filter_sizes, output_dim, \n",
    "                 dropout, pad_idx):\n",
    "        \n",
    "        super().__init__()\n",
    "                \n",
    "        self.embedding = nn.Embedding(vocab_size, embedding_dim, padding_idx = pad_idx)\n",
    "        \n",
    "        self.convs = nn.ModuleList([\n",
    "                                    nn.Conv2d(in_channels = 1, \n",
    "                                              out_channels = n_filters, \n",
    "                                              kernel_size = (fs, embedding_dim)) \n",
    "                                    for fs in filter_sizes\n",
    "                                    ])\n",
    "        \n",
    "        self.fc = nn.Linear(len(filter_sizes) * n_filters, output_dim)\n",
    "        \n",
    "        self.dropout = nn.Dropout(dropout)\n",
    "        \n",
    "    def forward(self, text):\n",
    "                \n",
    "        #text = [batch size, sent len]\n",
    "        \n",
    "        embedded = self.embedding(text)\n",
    "                \n",
    "        #embedded = [batch size, sent len, emb dim]\n",
    "        \n",
    "        embedded = embedded.unsqueeze(1)\n",
    "        \n",
    "        #embedded = [batch size, 1, sent len, emb dim]\n",
    "        \n",
    "        conved = [F.relu(conv(embedded)).squeeze(3) for conv in self.convs]\n",
    "            \n",
    "        #conved_n = [batch size, n_filters, sent len - filter_sizes[n] + 1]\n",
    "                \n",
    "        pooled = [F.max_pool1d(conv, conv.shape[2]).squeeze(2) for conv in conved]\n",
    "        \n",
    "        #pooled_n = [batch size, n_filters]\n",
    "        \n",
    "        cat = self.dropout(torch.cat(pooled, dim = 1))\n",
    "\n",
    "        #cat = [batch size, n_filters * len(filter_sizes)]\n",
    "            \n",
    "        return self.fc(cat)"
   ]
  },
  {
   "cell_type": "code",
   "execution_count": null,
   "metadata": {
    "ExecuteTime": {
     "end_time": "2020-04-27T15:45:03.231504Z",
     "start_time": "2020-04-27T15:44:53.863Z"
    },
    "colab": {},
    "colab_type": "code",
    "id": "p9asTaj4Ykoz"
   },
   "outputs": [],
   "source": [
    "INPUT_DIM = len(TEXT.vocab)\n",
    "EMBEDDING_DIM = 100\n",
    "N_FILTERS = 100\n",
    "FILTER_SIZES = [1,2,3]\n",
    "OUTPUT_DIM = 1\n",
    "DROPOUT = 0.5\n",
    "PAD_IDX = TEXT.vocab.stoi[TEXT.pad_token]\n",
    "\n",
    "model = CNN(INPUT_DIM, EMBEDDING_DIM, N_FILTERS, FILTER_SIZES, OUTPUT_DIM, DROPOUT, PAD_IDX)"
   ]
  },
  {
   "cell_type": "code",
   "execution_count": null,
   "metadata": {
    "ExecuteTime": {
     "end_time": "2020-04-27T15:45:03.235197Z",
     "start_time": "2020-04-27T15:44:53.866Z"
    },
    "colab": {},
    "colab_type": "code",
    "id": "Tlj2pGedYklK"
   },
   "outputs": [],
   "source": [
    "def count_parameters(model):\n",
    "    return sum(p.numel() for p in model.parameters() if p.requires_grad)\n",
    "\n",
    "print(f'The model has {count_parameters(model):,} trainable parameters')"
   ]
  },
  {
   "cell_type": "code",
   "execution_count": null,
   "metadata": {
    "ExecuteTime": {
     "end_time": "2020-04-27T15:45:03.237749Z",
     "start_time": "2020-04-27T15:44:53.868Z"
    },
    "colab": {},
    "colab_type": "code",
    "id": "1bccaTNLYkh2"
   },
   "outputs": [],
   "source": [
    "pretrained_embeddings = TEXT.vocab.vectors\n",
    "\n",
    "model.embedding.weight.data.copy_(pretrained_embeddings)"
   ]
  },
  {
   "cell_type": "code",
   "execution_count": null,
   "metadata": {
    "ExecuteTime": {
     "end_time": "2020-04-27T15:45:03.240469Z",
     "start_time": "2020-04-27T15:44:53.871Z"
    },
    "colab": {},
    "colab_type": "code",
    "id": "H-fAN3FvYi71"
   },
   "outputs": [],
   "source": [
    "UNK_IDX = TEXT.vocab.stoi[TEXT.unk_token]\n",
    "\n",
    "model.embedding.weight.data[UNK_IDX] = torch.zeros(EMBEDDING_DIM)\n",
    "model.embedding.weight.data[PAD_IDX] = torch.zeros(EMBEDDING_DIM)\n",
    "model.embedding.weight.data"
   ]
  },
  {
   "cell_type": "code",
   "execution_count": null,
   "metadata": {
    "ExecuteTime": {
     "end_time": "2020-04-27T15:45:03.242541Z",
     "start_time": "2020-04-27T15:44:53.874Z"
    },
    "colab": {},
    "colab_type": "code",
    "id": "nfWlpvuwYi4q"
   },
   "outputs": [],
   "source": [
    "import torch.optim as optim\n",
    "\n",
    "optimizer = optim.Adam(model.parameters())\n",
    "\n",
    "criterion = nn.BCEWithLogitsLoss()\n",
    "\n",
    "model = model.to(device)\n",
    "criterion = criterion.to(device)"
   ]
  },
  {
   "cell_type": "code",
   "execution_count": null,
   "metadata": {
    "ExecuteTime": {
     "end_time": "2020-04-27T15:45:03.244530Z",
     "start_time": "2020-04-27T15:44:53.877Z"
    },
    "colab": {},
    "colab_type": "code",
    "id": "ZGGD9SdCYi2V"
   },
   "outputs": [],
   "source": [
    "def binary_accuracy(preds, y):\n",
    "    \"\"\"\n",
    "    Returns accuracy per batch, i.e. if you get 8/10 right, this returns 0.8, NOT 8\n",
    "    \"\"\"\n",
    "\n",
    "    #round predictions to the closest integer\n",
    "    rounded_preds = torch.round(torch.sigmoid(preds))\n",
    "    correct = (rounded_preds == y).float() #convert into float for division \n",
    "    acc = correct.sum() / len(correct)\n",
    "    return acc"
   ]
  },
  {
   "cell_type": "code",
   "execution_count": null,
   "metadata": {
    "ExecuteTime": {
     "end_time": "2020-04-27T15:45:03.246717Z",
     "start_time": "2020-04-27T15:44:53.879Z"
    },
    "colab": {},
    "colab_type": "code",
    "id": "NTNpuyLtYi0z"
   },
   "outputs": [],
   "source": [
    "def train(model, iterator, optimizer, criterion):\n",
    "    \n",
    "    epoch_loss = 0\n",
    "    epoch_acc = 0\n",
    "    \n",
    "    model.train()\n",
    "    \n",
    "    for batch in iterator:\n",
    "        \n",
    "        optimizer.zero_grad()\n",
    "        \n",
    "        predictions = model(batch.text).squeeze(1)\n",
    "        \n",
    "        loss = criterion(predictions, batch.label)\n",
    "        \n",
    "        acc = binary_accuracy(predictions, batch.label)\n",
    "        \n",
    "        loss.backward()\n",
    "        \n",
    "        optimizer.step()\n",
    "        \n",
    "        epoch_loss += loss.item()\n",
    "        epoch_acc += acc.item()\n",
    "        \n",
    "    return epoch_loss / len(iterator), epoch_acc / len(iterator)"
   ]
  },
  {
   "cell_type": "code",
   "execution_count": null,
   "metadata": {
    "ExecuteTime": {
     "end_time": "2020-04-27T15:45:03.248426Z",
     "start_time": "2020-04-27T15:44:53.883Z"
    },
    "colab": {},
    "colab_type": "code",
    "id": "jNXv1IyRYixQ"
   },
   "outputs": [],
   "source": [
    "def evaluate(model, iterator, criterion):\n",
    "    \n",
    "    epoch_loss = 0\n",
    "    epoch_acc = 0\n",
    "    \n",
    "    model.eval()\n",
    "    \n",
    "    with torch.no_grad():\n",
    "    \n",
    "        for batch in iterator:\n",
    "\n",
    "            predictions = model(batch.text).squeeze(1)\n",
    "            \n",
    "            loss = criterion(predictions, batch.label)\n",
    "            \n",
    "            acc = binary_accuracy(predictions, batch.label)\n",
    "\n",
    "            epoch_loss += loss.item()\n",
    "            epoch_acc += acc.item()\n",
    "        \n",
    "    return epoch_loss / len(iterator), epoch_acc / len(iterator)"
   ]
  },
  {
   "cell_type": "code",
   "execution_count": null,
   "metadata": {
    "ExecuteTime": {
     "end_time": "2020-04-27T15:45:03.250336Z",
     "start_time": "2020-04-27T15:44:53.885Z"
    },
    "colab": {},
    "colab_type": "code",
    "id": "rEw20j0FYiva"
   },
   "outputs": [],
   "source": [
    "import time\n",
    "\n",
    "def epoch_time(start_time, end_time):\n",
    "    elapsed_time = end_time - start_time\n",
    "    elapsed_mins = int(elapsed_time / 60)\n",
    "    elapsed_secs = int(elapsed_time - (elapsed_mins * 60))\n",
    "    return elapsed_mins, elapsed_secs"
   ]
  },
  {
   "cell_type": "code",
   "execution_count": null,
   "metadata": {
    "ExecuteTime": {
     "end_time": "2020-04-27T15:45:03.252239Z",
     "start_time": "2020-04-27T15:44:53.888Z"
    },
    "colab": {},
    "colab_type": "code",
    "id": "G7aUjTjeYir-"
   },
   "outputs": [],
   "source": [
    "N_EPOCHS = 5\n",
    "\n",
    "best_valid_loss = float('inf')\n",
    "\n",
    "for epoch in range(N_EPOCHS):\n",
    "\n",
    "    start_time = time.time()\n",
    "    \n",
    "    train_loss, train_acc = train(model, train_iterator, optimizer, criterion)\n",
    "    valid_loss, valid_acc = evaluate(model, valid_iterator, criterion)\n",
    "    \n",
    "    end_time = time.time()\n",
    "\n",
    "    epoch_mins, epoch_secs = epoch_time(start_time, end_time)\n",
    "    \n",
    "    if valid_loss < best_valid_loss:\n",
    "        best_valid_loss = valid_loss\n",
    "        torch.save(model.state_dict(), 'text_mining.pt')\n",
    "    \n",
    "    print(f'Epoch: {epoch+1:02} | Epoch Time: {epoch_mins}m {epoch_secs}s')\n",
    "    print(f'\\tTrain Loss: {train_loss:.3f} | Train Acc: {train_acc*100:.2f}%')\n",
    "    print(f'\\t Val. Loss: {valid_loss:.3f} |  Val. Acc: {valid_acc*100:.2f}%')"
   ]
  },
  {
   "cell_type": "code",
   "execution_count": null,
   "metadata": {
    "colab": {},
    "colab_type": "code",
    "id": "eXesNThDYh3l"
   },
   "outputs": [],
   "source": []
  },
  {
   "cell_type": "code",
   "execution_count": null,
   "metadata": {
    "colab": {},
    "colab_type": "code",
    "id": "DdNeoKm6YhrE"
   },
   "outputs": [],
   "source": []
  }
 ],
 "metadata": {
  "accelerator": "GPU",
  "colab": {
   "collapsed_sections": [],
   "name": "nlp_final.ipynb",
   "provenance": [],
   "toc_visible": true
  },
  "kernelspec": {
   "display_name": "Python 3",
   "language": "python",
   "name": "python3"
  },
  "language_info": {
   "codemirror_mode": {
    "name": "ipython",
    "version": 3
   },
   "file_extension": ".py",
   "mimetype": "text/x-python",
   "name": "python",
   "nbconvert_exporter": "python",
   "pygments_lexer": "ipython3",
   "version": "3.7.4"
  },
  "toc": {
   "base_numbering": 1,
   "nav_menu": {},
   "number_sections": true,
   "sideBar": true,
   "skip_h1_title": false,
   "title_cell": "Table of Contents",
   "title_sidebar": "Contents",
   "toc_cell": false,
   "toc_position": {},
   "toc_section_display": true,
   "toc_window_display": true
  },
  "varInspector": {
   "cols": {
    "lenName": 16,
    "lenType": 16,
    "lenVar": 40
   },
   "kernels_config": {
    "python": {
     "delete_cmd_postfix": "",
     "delete_cmd_prefix": "del ",
     "library": "var_list.py",
     "varRefreshCmd": "print(var_dic_list())"
    },
    "r": {
     "delete_cmd_postfix": ") ",
     "delete_cmd_prefix": "rm(",
     "library": "var_list.r",
     "varRefreshCmd": "cat(var_dic_list()) "
    }
   },
   "types_to_exclude": [
    "module",
    "function",
    "builtin_function_or_method",
    "instance",
    "_Feature"
   ],
   "window_display": false
  }
 },
 "nbformat": 4,
 "nbformat_minor": 1
}
